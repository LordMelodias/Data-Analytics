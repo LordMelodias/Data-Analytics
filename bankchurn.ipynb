{
  "nbformat": 4,
  "nbformat_minor": 0,
  "metadata": {
    "colab": {
      "provenance": [],
      "authorship_tag": "ABX9TyMgr0EXVmRwoitxB3CG2eg5",
      "include_colab_link": true
    },
    "kernelspec": {
      "name": "python3",
      "display_name": "Python 3"
    },
    "language_info": {
      "name": "python"
    }
  },
  "cells": [
    {
      "cell_type": "markdown",
      "metadata": {
        "id": "view-in-github",
        "colab_type": "text"
      },
      "source": [
        "<a href=\"https://colab.research.google.com/github/LordMelodias/Data-Analytics/blob/main/bankchurn.ipynb\" target=\"_parent\"><img src=\"https://colab.research.google.com/assets/colab-badge.svg\" alt=\"Open In Colab\"/></a>"
      ]
    },
    {
      "cell_type": "markdown",
      "source": [
        "#**Introduction:**\n",
        "**Customer churn prediction is crucial for businesses aiming to retain clients and minimize losses. This analysis explores different machine learning models, including Support Vector Machines (SVM), to predict customer churn based on various features Techniques like oversampling and undersampling are applied to address class imbalance, ensuring better prediction accuracy.**"
      ],
      "metadata": {
        "id": "crdnV5Do65hr"
      }
    },
    {
      "cell_type": "markdown",
      "source": [
        "#**Learning Objective**\n",
        "\n",
        "1. Data Encoding\n",
        "2. Feature Scaling\n",
        "3. Handling Imbalance Data\n",
        "\n",
        "     a. Random Under Sampling\n",
        "\n",
        "     b. Random Over Sampling\n",
        "\n",
        "4. Support Vector Machine Classifier\n",
        "\n",
        "5. Grid Search for Hyperparameter Tunning"
      ],
      "metadata": {
        "id": "zg0QJhUc0fUz"
      }
    },
    {
      "cell_type": "code",
      "execution_count": 1,
      "metadata": {
        "id": "9JyVd42IYKYC"
      },
      "outputs": [],
      "source": [
        "import pandas as pd"
      ]
    },
    {
      "cell_type": "code",
      "source": [
        "import numpy as np"
      ],
      "metadata": {
        "id": "cQp2VFpBYSIE"
      },
      "execution_count": 2,
      "outputs": []
    },
    {
      "cell_type": "code",
      "source": [
        "import matplotlib.pyplot as plt"
      ],
      "metadata": {
        "id": "jl5GNlV8YUHY"
      },
      "execution_count": 3,
      "outputs": []
    },
    {
      "cell_type": "code",
      "source": [
        "import seaborn as sns"
      ],
      "metadata": {
        "id": "UYPCRqBQYW5K"
      },
      "execution_count": 4,
      "outputs": []
    },
    {
      "cell_type": "code",
      "source": [
        "df = pd.read_csv('https://raw.githubusercontent.com/YBI-Foundation/Dataset/main/Bank%20Churn%20Modelling.csv')"
      ],
      "metadata": {
        "id": "nSVhhhznYYtt"
      },
      "execution_count": 5,
      "outputs": []
    },
    {
      "cell_type": "code",
      "source": [
        "df.head()"
      ],
      "metadata": {
        "colab": {
          "base_uri": "https://localhost:8080/",
          "height": 261
        },
        "id": "1JluWFhkYnVw",
        "outputId": "52bacce3-2947-43a7-e01f-73c706cb5633"
      },
      "execution_count": 6,
      "outputs": [
        {
          "output_type": "execute_result",
          "data": {
            "text/plain": [
              "   CustomerId   Surname  CreditScore Geography  Gender  Age  Tenure  \\\n",
              "0    15634602  Hargrave          619    France  Female   42       2   \n",
              "1    15647311      Hill          608     Spain  Female   41       1   \n",
              "2    15619304      Onio          502    France  Female   42       8   \n",
              "3    15701354      Boni          699    France  Female   39       1   \n",
              "4    15737888  Mitchell          850     Spain  Female   43       2   \n",
              "\n",
              "     Balance  Num Of Products  Has Credit Card  Is Active Member  \\\n",
              "0       0.00                1                1                 1   \n",
              "1   83807.86                1                0                 1   \n",
              "2  159660.80                3                1                 0   \n",
              "3       0.00                2                0                 0   \n",
              "4  125510.82                1                1                 1   \n",
              "\n",
              "   Estimated Salary  Churn  \n",
              "0         101348.88      1  \n",
              "1         112542.58      0  \n",
              "2         113931.57      1  \n",
              "3          93826.63      0  \n",
              "4          79084.10      0  "
            ],
            "text/html": [
              "\n",
              "  <div id=\"df-280bbcd7-9ccf-4b66-9723-cf40c123cf4d\" class=\"colab-df-container\">\n",
              "    <div>\n",
              "<style scoped>\n",
              "    .dataframe tbody tr th:only-of-type {\n",
              "        vertical-align: middle;\n",
              "    }\n",
              "\n",
              "    .dataframe tbody tr th {\n",
              "        vertical-align: top;\n",
              "    }\n",
              "\n",
              "    .dataframe thead th {\n",
              "        text-align: right;\n",
              "    }\n",
              "</style>\n",
              "<table border=\"1\" class=\"dataframe\">\n",
              "  <thead>\n",
              "    <tr style=\"text-align: right;\">\n",
              "      <th></th>\n",
              "      <th>CustomerId</th>\n",
              "      <th>Surname</th>\n",
              "      <th>CreditScore</th>\n",
              "      <th>Geography</th>\n",
              "      <th>Gender</th>\n",
              "      <th>Age</th>\n",
              "      <th>Tenure</th>\n",
              "      <th>Balance</th>\n",
              "      <th>Num Of Products</th>\n",
              "      <th>Has Credit Card</th>\n",
              "      <th>Is Active Member</th>\n",
              "      <th>Estimated Salary</th>\n",
              "      <th>Churn</th>\n",
              "    </tr>\n",
              "  </thead>\n",
              "  <tbody>\n",
              "    <tr>\n",
              "      <th>0</th>\n",
              "      <td>15634602</td>\n",
              "      <td>Hargrave</td>\n",
              "      <td>619</td>\n",
              "      <td>France</td>\n",
              "      <td>Female</td>\n",
              "      <td>42</td>\n",
              "      <td>2</td>\n",
              "      <td>0.00</td>\n",
              "      <td>1</td>\n",
              "      <td>1</td>\n",
              "      <td>1</td>\n",
              "      <td>101348.88</td>\n",
              "      <td>1</td>\n",
              "    </tr>\n",
              "    <tr>\n",
              "      <th>1</th>\n",
              "      <td>15647311</td>\n",
              "      <td>Hill</td>\n",
              "      <td>608</td>\n",
              "      <td>Spain</td>\n",
              "      <td>Female</td>\n",
              "      <td>41</td>\n",
              "      <td>1</td>\n",
              "      <td>83807.86</td>\n",
              "      <td>1</td>\n",
              "      <td>0</td>\n",
              "      <td>1</td>\n",
              "      <td>112542.58</td>\n",
              "      <td>0</td>\n",
              "    </tr>\n",
              "    <tr>\n",
              "      <th>2</th>\n",
              "      <td>15619304</td>\n",
              "      <td>Onio</td>\n",
              "      <td>502</td>\n",
              "      <td>France</td>\n",
              "      <td>Female</td>\n",
              "      <td>42</td>\n",
              "      <td>8</td>\n",
              "      <td>159660.80</td>\n",
              "      <td>3</td>\n",
              "      <td>1</td>\n",
              "      <td>0</td>\n",
              "      <td>113931.57</td>\n",
              "      <td>1</td>\n",
              "    </tr>\n",
              "    <tr>\n",
              "      <th>3</th>\n",
              "      <td>15701354</td>\n",
              "      <td>Boni</td>\n",
              "      <td>699</td>\n",
              "      <td>France</td>\n",
              "      <td>Female</td>\n",
              "      <td>39</td>\n",
              "      <td>1</td>\n",
              "      <td>0.00</td>\n",
              "      <td>2</td>\n",
              "      <td>0</td>\n",
              "      <td>0</td>\n",
              "      <td>93826.63</td>\n",
              "      <td>0</td>\n",
              "    </tr>\n",
              "    <tr>\n",
              "      <th>4</th>\n",
              "      <td>15737888</td>\n",
              "      <td>Mitchell</td>\n",
              "      <td>850</td>\n",
              "      <td>Spain</td>\n",
              "      <td>Female</td>\n",
              "      <td>43</td>\n",
              "      <td>2</td>\n",
              "      <td>125510.82</td>\n",
              "      <td>1</td>\n",
              "      <td>1</td>\n",
              "      <td>1</td>\n",
              "      <td>79084.10</td>\n",
              "      <td>0</td>\n",
              "    </tr>\n",
              "  </tbody>\n",
              "</table>\n",
              "</div>\n",
              "    <div class=\"colab-df-buttons\">\n",
              "\n",
              "  <div class=\"colab-df-container\">\n",
              "    <button class=\"colab-df-convert\" onclick=\"convertToInteractive('df-280bbcd7-9ccf-4b66-9723-cf40c123cf4d')\"\n",
              "            title=\"Convert this dataframe to an interactive table.\"\n",
              "            style=\"display:none;\">\n",
              "\n",
              "  <svg xmlns=\"http://www.w3.org/2000/svg\" height=\"24px\" viewBox=\"0 -960 960 960\">\n",
              "    <path d=\"M120-120v-720h720v720H120Zm60-500h600v-160H180v160Zm220 220h160v-160H400v160Zm0 220h160v-160H400v160ZM180-400h160v-160H180v160Zm440 0h160v-160H620v160ZM180-180h160v-160H180v160Zm440 0h160v-160H620v160Z\"/>\n",
              "  </svg>\n",
              "    </button>\n",
              "\n",
              "  <style>\n",
              "    .colab-df-container {\n",
              "      display:flex;\n",
              "      gap: 12px;\n",
              "    }\n",
              "\n",
              "    .colab-df-convert {\n",
              "      background-color: #E8F0FE;\n",
              "      border: none;\n",
              "      border-radius: 50%;\n",
              "      cursor: pointer;\n",
              "      display: none;\n",
              "      fill: #1967D2;\n",
              "      height: 32px;\n",
              "      padding: 0 0 0 0;\n",
              "      width: 32px;\n",
              "    }\n",
              "\n",
              "    .colab-df-convert:hover {\n",
              "      background-color: #E2EBFA;\n",
              "      box-shadow: 0px 1px 2px rgba(60, 64, 67, 0.3), 0px 1px 3px 1px rgba(60, 64, 67, 0.15);\n",
              "      fill: #174EA6;\n",
              "    }\n",
              "\n",
              "    .colab-df-buttons div {\n",
              "      margin-bottom: 4px;\n",
              "    }\n",
              "\n",
              "    [theme=dark] .colab-df-convert {\n",
              "      background-color: #3B4455;\n",
              "      fill: #D2E3FC;\n",
              "    }\n",
              "\n",
              "    [theme=dark] .colab-df-convert:hover {\n",
              "      background-color: #434B5C;\n",
              "      box-shadow: 0px 1px 3px 1px rgba(0, 0, 0, 0.15);\n",
              "      filter: drop-shadow(0px 1px 2px rgba(0, 0, 0, 0.3));\n",
              "      fill: #FFFFFF;\n",
              "    }\n",
              "  </style>\n",
              "\n",
              "    <script>\n",
              "      const buttonEl =\n",
              "        document.querySelector('#df-280bbcd7-9ccf-4b66-9723-cf40c123cf4d button.colab-df-convert');\n",
              "      buttonEl.style.display =\n",
              "        google.colab.kernel.accessAllowed ? 'block' : 'none';\n",
              "\n",
              "      async function convertToInteractive(key) {\n",
              "        const element = document.querySelector('#df-280bbcd7-9ccf-4b66-9723-cf40c123cf4d');\n",
              "        const dataTable =\n",
              "          await google.colab.kernel.invokeFunction('convertToInteractive',\n",
              "                                                    [key], {});\n",
              "        if (!dataTable) return;\n",
              "\n",
              "        const docLinkHtml = 'Like what you see? Visit the ' +\n",
              "          '<a target=\"_blank\" href=https://colab.research.google.com/notebooks/data_table.ipynb>data table notebook</a>'\n",
              "          + ' to learn more about interactive tables.';\n",
              "        element.innerHTML = '';\n",
              "        dataTable['output_type'] = 'display_data';\n",
              "        await google.colab.output.renderOutput(dataTable, element);\n",
              "        const docLink = document.createElement('div');\n",
              "        docLink.innerHTML = docLinkHtml;\n",
              "        element.appendChild(docLink);\n",
              "      }\n",
              "    </script>\n",
              "  </div>\n",
              "\n",
              "\n",
              "<div id=\"df-cc71bc65-7130-4885-8006-6cb8f42c1d23\">\n",
              "  <button class=\"colab-df-quickchart\" onclick=\"quickchart('df-cc71bc65-7130-4885-8006-6cb8f42c1d23')\"\n",
              "            title=\"Suggest charts\"\n",
              "            style=\"display:none;\">\n",
              "\n",
              "<svg xmlns=\"http://www.w3.org/2000/svg\" height=\"24px\"viewBox=\"0 0 24 24\"\n",
              "     width=\"24px\">\n",
              "    <g>\n",
              "        <path d=\"M19 3H5c-1.1 0-2 .9-2 2v14c0 1.1.9 2 2 2h14c1.1 0 2-.9 2-2V5c0-1.1-.9-2-2-2zM9 17H7v-7h2v7zm4 0h-2V7h2v10zm4 0h-2v-4h2v4z\"/>\n",
              "    </g>\n",
              "</svg>\n",
              "  </button>\n",
              "\n",
              "<style>\n",
              "  .colab-df-quickchart {\n",
              "      --bg-color: #E8F0FE;\n",
              "      --fill-color: #1967D2;\n",
              "      --hover-bg-color: #E2EBFA;\n",
              "      --hover-fill-color: #174EA6;\n",
              "      --disabled-fill-color: #AAA;\n",
              "      --disabled-bg-color: #DDD;\n",
              "  }\n",
              "\n",
              "  [theme=dark] .colab-df-quickchart {\n",
              "      --bg-color: #3B4455;\n",
              "      --fill-color: #D2E3FC;\n",
              "      --hover-bg-color: #434B5C;\n",
              "      --hover-fill-color: #FFFFFF;\n",
              "      --disabled-bg-color: #3B4455;\n",
              "      --disabled-fill-color: #666;\n",
              "  }\n",
              "\n",
              "  .colab-df-quickchart {\n",
              "    background-color: var(--bg-color);\n",
              "    border: none;\n",
              "    border-radius: 50%;\n",
              "    cursor: pointer;\n",
              "    display: none;\n",
              "    fill: var(--fill-color);\n",
              "    height: 32px;\n",
              "    padding: 0;\n",
              "    width: 32px;\n",
              "  }\n",
              "\n",
              "  .colab-df-quickchart:hover {\n",
              "    background-color: var(--hover-bg-color);\n",
              "    box-shadow: 0 1px 2px rgba(60, 64, 67, 0.3), 0 1px 3px 1px rgba(60, 64, 67, 0.15);\n",
              "    fill: var(--button-hover-fill-color);\n",
              "  }\n",
              "\n",
              "  .colab-df-quickchart-complete:disabled,\n",
              "  .colab-df-quickchart-complete:disabled:hover {\n",
              "    background-color: var(--disabled-bg-color);\n",
              "    fill: var(--disabled-fill-color);\n",
              "    box-shadow: none;\n",
              "  }\n",
              "\n",
              "  .colab-df-spinner {\n",
              "    border: 2px solid var(--fill-color);\n",
              "    border-color: transparent;\n",
              "    border-bottom-color: var(--fill-color);\n",
              "    animation:\n",
              "      spin 1s steps(1) infinite;\n",
              "  }\n",
              "\n",
              "  @keyframes spin {\n",
              "    0% {\n",
              "      border-color: transparent;\n",
              "      border-bottom-color: var(--fill-color);\n",
              "      border-left-color: var(--fill-color);\n",
              "    }\n",
              "    20% {\n",
              "      border-color: transparent;\n",
              "      border-left-color: var(--fill-color);\n",
              "      border-top-color: var(--fill-color);\n",
              "    }\n",
              "    30% {\n",
              "      border-color: transparent;\n",
              "      border-left-color: var(--fill-color);\n",
              "      border-top-color: var(--fill-color);\n",
              "      border-right-color: var(--fill-color);\n",
              "    }\n",
              "    40% {\n",
              "      border-color: transparent;\n",
              "      border-right-color: var(--fill-color);\n",
              "      border-top-color: var(--fill-color);\n",
              "    }\n",
              "    60% {\n",
              "      border-color: transparent;\n",
              "      border-right-color: var(--fill-color);\n",
              "    }\n",
              "    80% {\n",
              "      border-color: transparent;\n",
              "      border-right-color: var(--fill-color);\n",
              "      border-bottom-color: var(--fill-color);\n",
              "    }\n",
              "    90% {\n",
              "      border-color: transparent;\n",
              "      border-bottom-color: var(--fill-color);\n",
              "    }\n",
              "  }\n",
              "</style>\n",
              "\n",
              "  <script>\n",
              "    async function quickchart(key) {\n",
              "      const quickchartButtonEl =\n",
              "        document.querySelector('#' + key + ' button');\n",
              "      quickchartButtonEl.disabled = true;  // To prevent multiple clicks.\n",
              "      quickchartButtonEl.classList.add('colab-df-spinner');\n",
              "      try {\n",
              "        const charts = await google.colab.kernel.invokeFunction(\n",
              "            'suggestCharts', [key], {});\n",
              "      } catch (error) {\n",
              "        console.error('Error during call to suggestCharts:', error);\n",
              "      }\n",
              "      quickchartButtonEl.classList.remove('colab-df-spinner');\n",
              "      quickchartButtonEl.classList.add('colab-df-quickchart-complete');\n",
              "    }\n",
              "    (() => {\n",
              "      let quickchartButtonEl =\n",
              "        document.querySelector('#df-cc71bc65-7130-4885-8006-6cb8f42c1d23 button');\n",
              "      quickchartButtonEl.style.display =\n",
              "        google.colab.kernel.accessAllowed ? 'block' : 'none';\n",
              "    })();\n",
              "  </script>\n",
              "</div>\n",
              "\n",
              "    </div>\n",
              "  </div>\n"
            ],
            "application/vnd.google.colaboratory.intrinsic+json": {
              "type": "dataframe",
              "variable_name": "df",
              "summary": "{\n  \"name\": \"df\",\n  \"rows\": 10000,\n  \"fields\": [\n    {\n      \"column\": \"CustomerId\",\n      \"properties\": {\n        \"dtype\": \"number\",\n        \"std\": 71936,\n        \"min\": 15565701,\n        \"max\": 15815690,\n        \"num_unique_values\": 10000,\n        \"samples\": [\n          15687492,\n          15736963,\n          15721730\n        ],\n        \"semantic_type\": \"\",\n        \"description\": \"\"\n      }\n    },\n    {\n      \"column\": \"Surname\",\n      \"properties\": {\n        \"dtype\": \"category\",\n        \"num_unique_values\": 2932,\n        \"samples\": [\n          \"McGuirk\",\n          \"Torkelson\",\n          \"Rapuluchukwu\"\n        ],\n        \"semantic_type\": \"\",\n        \"description\": \"\"\n      }\n    },\n    {\n      \"column\": \"CreditScore\",\n      \"properties\": {\n        \"dtype\": \"number\",\n        \"std\": 96,\n        \"min\": 350,\n        \"max\": 850,\n        \"num_unique_values\": 460,\n        \"samples\": [\n          754,\n          533,\n          744\n        ],\n        \"semantic_type\": \"\",\n        \"description\": \"\"\n      }\n    },\n    {\n      \"column\": \"Geography\",\n      \"properties\": {\n        \"dtype\": \"category\",\n        \"num_unique_values\": 3,\n        \"samples\": [\n          \"France\",\n          \"Spain\",\n          \"Germany\"\n        ],\n        \"semantic_type\": \"\",\n        \"description\": \"\"\n      }\n    },\n    {\n      \"column\": \"Gender\",\n      \"properties\": {\n        \"dtype\": \"category\",\n        \"num_unique_values\": 2,\n        \"samples\": [\n          \"Male\",\n          \"Female\"\n        ],\n        \"semantic_type\": \"\",\n        \"description\": \"\"\n      }\n    },\n    {\n      \"column\": \"Age\",\n      \"properties\": {\n        \"dtype\": \"number\",\n        \"std\": 10,\n        \"min\": 18,\n        \"max\": 92,\n        \"num_unique_values\": 70,\n        \"samples\": [\n          61,\n          42\n        ],\n        \"semantic_type\": \"\",\n        \"description\": \"\"\n      }\n    },\n    {\n      \"column\": \"Tenure\",\n      \"properties\": {\n        \"dtype\": \"number\",\n        \"std\": 2,\n        \"min\": 0,\n        \"max\": 10,\n        \"num_unique_values\": 11,\n        \"samples\": [\n          6,\n          2\n        ],\n        \"semantic_type\": \"\",\n        \"description\": \"\"\n      }\n    },\n    {\n      \"column\": \"Balance\",\n      \"properties\": {\n        \"dtype\": \"number\",\n        \"std\": 62397.405202385955,\n        \"min\": 0.0,\n        \"max\": 250898.09,\n        \"num_unique_values\": 6382,\n        \"samples\": [\n          117707.18,\n          133050.97\n        ],\n        \"semantic_type\": \"\",\n        \"description\": \"\"\n      }\n    },\n    {\n      \"column\": \"Num Of Products\",\n      \"properties\": {\n        \"dtype\": \"number\",\n        \"std\": 0,\n        \"min\": 1,\n        \"max\": 4,\n        \"num_unique_values\": 4,\n        \"samples\": [\n          3,\n          4\n        ],\n        \"semantic_type\": \"\",\n        \"description\": \"\"\n      }\n    },\n    {\n      \"column\": \"Has Credit Card\",\n      \"properties\": {\n        \"dtype\": \"number\",\n        \"std\": 0,\n        \"min\": 0,\n        \"max\": 1,\n        \"num_unique_values\": 2,\n        \"samples\": [\n          0,\n          1\n        ],\n        \"semantic_type\": \"\",\n        \"description\": \"\"\n      }\n    },\n    {\n      \"column\": \"Is Active Member\",\n      \"properties\": {\n        \"dtype\": \"number\",\n        \"std\": 0,\n        \"min\": 0,\n        \"max\": 1,\n        \"num_unique_values\": 2,\n        \"samples\": [\n          0,\n          1\n        ],\n        \"semantic_type\": \"\",\n        \"description\": \"\"\n      }\n    },\n    {\n      \"column\": \"Estimated Salary\",\n      \"properties\": {\n        \"dtype\": \"number\",\n        \"std\": 57510.49281769816,\n        \"min\": 11.58,\n        \"max\": 199992.48,\n        \"num_unique_values\": 9999,\n        \"samples\": [\n          100809.99,\n          95273.73\n        ],\n        \"semantic_type\": \"\",\n        \"description\": \"\"\n      }\n    },\n    {\n      \"column\": \"Churn\",\n      \"properties\": {\n        \"dtype\": \"number\",\n        \"std\": 0,\n        \"min\": 0,\n        \"max\": 1,\n        \"num_unique_values\": 2,\n        \"samples\": [\n          0,\n          1\n        ],\n        \"semantic_type\": \"\",\n        \"description\": \"\"\n      }\n    }\n  ]\n}"
            }
          },
          "metadata": {},
          "execution_count": 6
        }
      ]
    },
    {
      "cell_type": "code",
      "source": [
        "df.shape"
      ],
      "metadata": {
        "colab": {
          "base_uri": "https://localhost:8080/"
        },
        "id": "FizXQKzvYpEs",
        "outputId": "96abe411-f058-448a-d7ae-32d9cfd1868a"
      },
      "execution_count": 7,
      "outputs": [
        {
          "output_type": "execute_result",
          "data": {
            "text/plain": [
              "(10000, 13)"
            ]
          },
          "metadata": {},
          "execution_count": 7
        }
      ]
    },
    {
      "cell_type": "code",
      "source": [
        "df.info()"
      ],
      "metadata": {
        "colab": {
          "base_uri": "https://localhost:8080/"
        },
        "id": "JankZ07aYrSN",
        "outputId": "5b8e64aa-8306-4b00-dc81-178554f712eb"
      },
      "execution_count": 8,
      "outputs": [
        {
          "output_type": "stream",
          "name": "stdout",
          "text": [
            "<class 'pandas.core.frame.DataFrame'>\n",
            "RangeIndex: 10000 entries, 0 to 9999\n",
            "Data columns (total 13 columns):\n",
            " #   Column            Non-Null Count  Dtype  \n",
            "---  ------            --------------  -----  \n",
            " 0   CustomerId        10000 non-null  int64  \n",
            " 1   Surname           10000 non-null  object \n",
            " 2   CreditScore       10000 non-null  int64  \n",
            " 3   Geography         10000 non-null  object \n",
            " 4   Gender            10000 non-null  object \n",
            " 5   Age               10000 non-null  int64  \n",
            " 6   Tenure            10000 non-null  int64  \n",
            " 7   Balance           10000 non-null  float64\n",
            " 8   Num Of Products   10000 non-null  int64  \n",
            " 9   Has Credit Card   10000 non-null  int64  \n",
            " 10  Is Active Member  10000 non-null  int64  \n",
            " 11  Estimated Salary  10000 non-null  float64\n",
            " 12  Churn             10000 non-null  int64  \n",
            "dtypes: float64(2), int64(8), object(3)\n",
            "memory usage: 1015.8+ KB\n"
          ]
        }
      ]
    },
    {
      "cell_type": "code",
      "source": [
        "df.describe()"
      ],
      "metadata": {
        "colab": {
          "base_uri": "https://localhost:8080/",
          "height": 338
        },
        "id": "Ld1Oh1cEYuS2",
        "outputId": "f0e7ad3a-a107-480a-c9b3-bd1ec1964dfc"
      },
      "execution_count": 9,
      "outputs": [
        {
          "output_type": "execute_result",
          "data": {
            "text/plain": [
              "         CustomerId   CreditScore           Age        Tenure        Balance  \\\n",
              "count  1.000000e+04  10000.000000  10000.000000  10000.000000   10000.000000   \n",
              "mean   1.569094e+07    650.528800     38.921800      5.012800   76485.889288   \n",
              "std    7.193619e+04     96.653299     10.487806      2.892174   62397.405202   \n",
              "min    1.556570e+07    350.000000     18.000000      0.000000       0.000000   \n",
              "25%    1.562853e+07    584.000000     32.000000      3.000000       0.000000   \n",
              "50%    1.569074e+07    652.000000     37.000000      5.000000   97198.540000   \n",
              "75%    1.575323e+07    718.000000     44.000000      7.000000  127644.240000   \n",
              "max    1.581569e+07    850.000000     92.000000     10.000000  250898.090000   \n",
              "\n",
              "       Num Of Products  Has Credit Card  Is Active Member  Estimated Salary  \\\n",
              "count     10000.000000      10000.00000      10000.000000      10000.000000   \n",
              "mean          1.530200          0.70550          0.515100     100090.239881   \n",
              "std           0.581654          0.45584          0.499797      57510.492818   \n",
              "min           1.000000          0.00000          0.000000         11.580000   \n",
              "25%           1.000000          0.00000          0.000000      51002.110000   \n",
              "50%           1.000000          1.00000          1.000000     100193.915000   \n",
              "75%           2.000000          1.00000          1.000000     149388.247500   \n",
              "max           4.000000          1.00000          1.000000     199992.480000   \n",
              "\n",
              "              Churn  \n",
              "count  10000.000000  \n",
              "mean       0.203700  \n",
              "std        0.402769  \n",
              "min        0.000000  \n",
              "25%        0.000000  \n",
              "50%        0.000000  \n",
              "75%        0.000000  \n",
              "max        1.000000  "
            ],
            "text/html": [
              "\n",
              "  <div id=\"df-1ed743fc-465f-44cb-a049-a0cfefda26fe\" class=\"colab-df-container\">\n",
              "    <div>\n",
              "<style scoped>\n",
              "    .dataframe tbody tr th:only-of-type {\n",
              "        vertical-align: middle;\n",
              "    }\n",
              "\n",
              "    .dataframe tbody tr th {\n",
              "        vertical-align: top;\n",
              "    }\n",
              "\n",
              "    .dataframe thead th {\n",
              "        text-align: right;\n",
              "    }\n",
              "</style>\n",
              "<table border=\"1\" class=\"dataframe\">\n",
              "  <thead>\n",
              "    <tr style=\"text-align: right;\">\n",
              "      <th></th>\n",
              "      <th>CustomerId</th>\n",
              "      <th>CreditScore</th>\n",
              "      <th>Age</th>\n",
              "      <th>Tenure</th>\n",
              "      <th>Balance</th>\n",
              "      <th>Num Of Products</th>\n",
              "      <th>Has Credit Card</th>\n",
              "      <th>Is Active Member</th>\n",
              "      <th>Estimated Salary</th>\n",
              "      <th>Churn</th>\n",
              "    </tr>\n",
              "  </thead>\n",
              "  <tbody>\n",
              "    <tr>\n",
              "      <th>count</th>\n",
              "      <td>1.000000e+04</td>\n",
              "      <td>10000.000000</td>\n",
              "      <td>10000.000000</td>\n",
              "      <td>10000.000000</td>\n",
              "      <td>10000.000000</td>\n",
              "      <td>10000.000000</td>\n",
              "      <td>10000.00000</td>\n",
              "      <td>10000.000000</td>\n",
              "      <td>10000.000000</td>\n",
              "      <td>10000.000000</td>\n",
              "    </tr>\n",
              "    <tr>\n",
              "      <th>mean</th>\n",
              "      <td>1.569094e+07</td>\n",
              "      <td>650.528800</td>\n",
              "      <td>38.921800</td>\n",
              "      <td>5.012800</td>\n",
              "      <td>76485.889288</td>\n",
              "      <td>1.530200</td>\n",
              "      <td>0.70550</td>\n",
              "      <td>0.515100</td>\n",
              "      <td>100090.239881</td>\n",
              "      <td>0.203700</td>\n",
              "    </tr>\n",
              "    <tr>\n",
              "      <th>std</th>\n",
              "      <td>7.193619e+04</td>\n",
              "      <td>96.653299</td>\n",
              "      <td>10.487806</td>\n",
              "      <td>2.892174</td>\n",
              "      <td>62397.405202</td>\n",
              "      <td>0.581654</td>\n",
              "      <td>0.45584</td>\n",
              "      <td>0.499797</td>\n",
              "      <td>57510.492818</td>\n",
              "      <td>0.402769</td>\n",
              "    </tr>\n",
              "    <tr>\n",
              "      <th>min</th>\n",
              "      <td>1.556570e+07</td>\n",
              "      <td>350.000000</td>\n",
              "      <td>18.000000</td>\n",
              "      <td>0.000000</td>\n",
              "      <td>0.000000</td>\n",
              "      <td>1.000000</td>\n",
              "      <td>0.00000</td>\n",
              "      <td>0.000000</td>\n",
              "      <td>11.580000</td>\n",
              "      <td>0.000000</td>\n",
              "    </tr>\n",
              "    <tr>\n",
              "      <th>25%</th>\n",
              "      <td>1.562853e+07</td>\n",
              "      <td>584.000000</td>\n",
              "      <td>32.000000</td>\n",
              "      <td>3.000000</td>\n",
              "      <td>0.000000</td>\n",
              "      <td>1.000000</td>\n",
              "      <td>0.00000</td>\n",
              "      <td>0.000000</td>\n",
              "      <td>51002.110000</td>\n",
              "      <td>0.000000</td>\n",
              "    </tr>\n",
              "    <tr>\n",
              "      <th>50%</th>\n",
              "      <td>1.569074e+07</td>\n",
              "      <td>652.000000</td>\n",
              "      <td>37.000000</td>\n",
              "      <td>5.000000</td>\n",
              "      <td>97198.540000</td>\n",
              "      <td>1.000000</td>\n",
              "      <td>1.00000</td>\n",
              "      <td>1.000000</td>\n",
              "      <td>100193.915000</td>\n",
              "      <td>0.000000</td>\n",
              "    </tr>\n",
              "    <tr>\n",
              "      <th>75%</th>\n",
              "      <td>1.575323e+07</td>\n",
              "      <td>718.000000</td>\n",
              "      <td>44.000000</td>\n",
              "      <td>7.000000</td>\n",
              "      <td>127644.240000</td>\n",
              "      <td>2.000000</td>\n",
              "      <td>1.00000</td>\n",
              "      <td>1.000000</td>\n",
              "      <td>149388.247500</td>\n",
              "      <td>0.000000</td>\n",
              "    </tr>\n",
              "    <tr>\n",
              "      <th>max</th>\n",
              "      <td>1.581569e+07</td>\n",
              "      <td>850.000000</td>\n",
              "      <td>92.000000</td>\n",
              "      <td>10.000000</td>\n",
              "      <td>250898.090000</td>\n",
              "      <td>4.000000</td>\n",
              "      <td>1.00000</td>\n",
              "      <td>1.000000</td>\n",
              "      <td>199992.480000</td>\n",
              "      <td>1.000000</td>\n",
              "    </tr>\n",
              "  </tbody>\n",
              "</table>\n",
              "</div>\n",
              "    <div class=\"colab-df-buttons\">\n",
              "\n",
              "  <div class=\"colab-df-container\">\n",
              "    <button class=\"colab-df-convert\" onclick=\"convertToInteractive('df-1ed743fc-465f-44cb-a049-a0cfefda26fe')\"\n",
              "            title=\"Convert this dataframe to an interactive table.\"\n",
              "            style=\"display:none;\">\n",
              "\n",
              "  <svg xmlns=\"http://www.w3.org/2000/svg\" height=\"24px\" viewBox=\"0 -960 960 960\">\n",
              "    <path d=\"M120-120v-720h720v720H120Zm60-500h600v-160H180v160Zm220 220h160v-160H400v160Zm0 220h160v-160H400v160ZM180-400h160v-160H180v160Zm440 0h160v-160H620v160ZM180-180h160v-160H180v160Zm440 0h160v-160H620v160Z\"/>\n",
              "  </svg>\n",
              "    </button>\n",
              "\n",
              "  <style>\n",
              "    .colab-df-container {\n",
              "      display:flex;\n",
              "      gap: 12px;\n",
              "    }\n",
              "\n",
              "    .colab-df-convert {\n",
              "      background-color: #E8F0FE;\n",
              "      border: none;\n",
              "      border-radius: 50%;\n",
              "      cursor: pointer;\n",
              "      display: none;\n",
              "      fill: #1967D2;\n",
              "      height: 32px;\n",
              "      padding: 0 0 0 0;\n",
              "      width: 32px;\n",
              "    }\n",
              "\n",
              "    .colab-df-convert:hover {\n",
              "      background-color: #E2EBFA;\n",
              "      box-shadow: 0px 1px 2px rgba(60, 64, 67, 0.3), 0px 1px 3px 1px rgba(60, 64, 67, 0.15);\n",
              "      fill: #174EA6;\n",
              "    }\n",
              "\n",
              "    .colab-df-buttons div {\n",
              "      margin-bottom: 4px;\n",
              "    }\n",
              "\n",
              "    [theme=dark] .colab-df-convert {\n",
              "      background-color: #3B4455;\n",
              "      fill: #D2E3FC;\n",
              "    }\n",
              "\n",
              "    [theme=dark] .colab-df-convert:hover {\n",
              "      background-color: #434B5C;\n",
              "      box-shadow: 0px 1px 3px 1px rgba(0, 0, 0, 0.15);\n",
              "      filter: drop-shadow(0px 1px 2px rgba(0, 0, 0, 0.3));\n",
              "      fill: #FFFFFF;\n",
              "    }\n",
              "  </style>\n",
              "\n",
              "    <script>\n",
              "      const buttonEl =\n",
              "        document.querySelector('#df-1ed743fc-465f-44cb-a049-a0cfefda26fe button.colab-df-convert');\n",
              "      buttonEl.style.display =\n",
              "        google.colab.kernel.accessAllowed ? 'block' : 'none';\n",
              "\n",
              "      async function convertToInteractive(key) {\n",
              "        const element = document.querySelector('#df-1ed743fc-465f-44cb-a049-a0cfefda26fe');\n",
              "        const dataTable =\n",
              "          await google.colab.kernel.invokeFunction('convertToInteractive',\n",
              "                                                    [key], {});\n",
              "        if (!dataTable) return;\n",
              "\n",
              "        const docLinkHtml = 'Like what you see? Visit the ' +\n",
              "          '<a target=\"_blank\" href=https://colab.research.google.com/notebooks/data_table.ipynb>data table notebook</a>'\n",
              "          + ' to learn more about interactive tables.';\n",
              "        element.innerHTML = '';\n",
              "        dataTable['output_type'] = 'display_data';\n",
              "        await google.colab.output.renderOutput(dataTable, element);\n",
              "        const docLink = document.createElement('div');\n",
              "        docLink.innerHTML = docLinkHtml;\n",
              "        element.appendChild(docLink);\n",
              "      }\n",
              "    </script>\n",
              "  </div>\n",
              "\n",
              "\n",
              "<div id=\"df-d6e0a594-9223-43ed-8440-d04ae3450026\">\n",
              "  <button class=\"colab-df-quickchart\" onclick=\"quickchart('df-d6e0a594-9223-43ed-8440-d04ae3450026')\"\n",
              "            title=\"Suggest charts\"\n",
              "            style=\"display:none;\">\n",
              "\n",
              "<svg xmlns=\"http://www.w3.org/2000/svg\" height=\"24px\"viewBox=\"0 0 24 24\"\n",
              "     width=\"24px\">\n",
              "    <g>\n",
              "        <path d=\"M19 3H5c-1.1 0-2 .9-2 2v14c0 1.1.9 2 2 2h14c1.1 0 2-.9 2-2V5c0-1.1-.9-2-2-2zM9 17H7v-7h2v7zm4 0h-2V7h2v10zm4 0h-2v-4h2v4z\"/>\n",
              "    </g>\n",
              "</svg>\n",
              "  </button>\n",
              "\n",
              "<style>\n",
              "  .colab-df-quickchart {\n",
              "      --bg-color: #E8F0FE;\n",
              "      --fill-color: #1967D2;\n",
              "      --hover-bg-color: #E2EBFA;\n",
              "      --hover-fill-color: #174EA6;\n",
              "      --disabled-fill-color: #AAA;\n",
              "      --disabled-bg-color: #DDD;\n",
              "  }\n",
              "\n",
              "  [theme=dark] .colab-df-quickchart {\n",
              "      --bg-color: #3B4455;\n",
              "      --fill-color: #D2E3FC;\n",
              "      --hover-bg-color: #434B5C;\n",
              "      --hover-fill-color: #FFFFFF;\n",
              "      --disabled-bg-color: #3B4455;\n",
              "      --disabled-fill-color: #666;\n",
              "  }\n",
              "\n",
              "  .colab-df-quickchart {\n",
              "    background-color: var(--bg-color);\n",
              "    border: none;\n",
              "    border-radius: 50%;\n",
              "    cursor: pointer;\n",
              "    display: none;\n",
              "    fill: var(--fill-color);\n",
              "    height: 32px;\n",
              "    padding: 0;\n",
              "    width: 32px;\n",
              "  }\n",
              "\n",
              "  .colab-df-quickchart:hover {\n",
              "    background-color: var(--hover-bg-color);\n",
              "    box-shadow: 0 1px 2px rgba(60, 64, 67, 0.3), 0 1px 3px 1px rgba(60, 64, 67, 0.15);\n",
              "    fill: var(--button-hover-fill-color);\n",
              "  }\n",
              "\n",
              "  .colab-df-quickchart-complete:disabled,\n",
              "  .colab-df-quickchart-complete:disabled:hover {\n",
              "    background-color: var(--disabled-bg-color);\n",
              "    fill: var(--disabled-fill-color);\n",
              "    box-shadow: none;\n",
              "  }\n",
              "\n",
              "  .colab-df-spinner {\n",
              "    border: 2px solid var(--fill-color);\n",
              "    border-color: transparent;\n",
              "    border-bottom-color: var(--fill-color);\n",
              "    animation:\n",
              "      spin 1s steps(1) infinite;\n",
              "  }\n",
              "\n",
              "  @keyframes spin {\n",
              "    0% {\n",
              "      border-color: transparent;\n",
              "      border-bottom-color: var(--fill-color);\n",
              "      border-left-color: var(--fill-color);\n",
              "    }\n",
              "    20% {\n",
              "      border-color: transparent;\n",
              "      border-left-color: var(--fill-color);\n",
              "      border-top-color: var(--fill-color);\n",
              "    }\n",
              "    30% {\n",
              "      border-color: transparent;\n",
              "      border-left-color: var(--fill-color);\n",
              "      border-top-color: var(--fill-color);\n",
              "      border-right-color: var(--fill-color);\n",
              "    }\n",
              "    40% {\n",
              "      border-color: transparent;\n",
              "      border-right-color: var(--fill-color);\n",
              "      border-top-color: var(--fill-color);\n",
              "    }\n",
              "    60% {\n",
              "      border-color: transparent;\n",
              "      border-right-color: var(--fill-color);\n",
              "    }\n",
              "    80% {\n",
              "      border-color: transparent;\n",
              "      border-right-color: var(--fill-color);\n",
              "      border-bottom-color: var(--fill-color);\n",
              "    }\n",
              "    90% {\n",
              "      border-color: transparent;\n",
              "      border-bottom-color: var(--fill-color);\n",
              "    }\n",
              "  }\n",
              "</style>\n",
              "\n",
              "  <script>\n",
              "    async function quickchart(key) {\n",
              "      const quickchartButtonEl =\n",
              "        document.querySelector('#' + key + ' button');\n",
              "      quickchartButtonEl.disabled = true;  // To prevent multiple clicks.\n",
              "      quickchartButtonEl.classList.add('colab-df-spinner');\n",
              "      try {\n",
              "        const charts = await google.colab.kernel.invokeFunction(\n",
              "            'suggestCharts', [key], {});\n",
              "      } catch (error) {\n",
              "        console.error('Error during call to suggestCharts:', error);\n",
              "      }\n",
              "      quickchartButtonEl.classList.remove('colab-df-spinner');\n",
              "      quickchartButtonEl.classList.add('colab-df-quickchart-complete');\n",
              "    }\n",
              "    (() => {\n",
              "      let quickchartButtonEl =\n",
              "        document.querySelector('#df-d6e0a594-9223-43ed-8440-d04ae3450026 button');\n",
              "      quickchartButtonEl.style.display =\n",
              "        google.colab.kernel.accessAllowed ? 'block' : 'none';\n",
              "    })();\n",
              "  </script>\n",
              "</div>\n",
              "\n",
              "    </div>\n",
              "  </div>\n"
            ],
            "application/vnd.google.colaboratory.intrinsic+json": {
              "type": "dataframe",
              "summary": "{\n  \"name\": \"df\",\n  \"rows\": 8,\n  \"fields\": [\n    {\n      \"column\": \"CustomerId\",\n      \"properties\": {\n        \"dtype\": \"number\",\n        \"std\": 7244870.561655487,\n        \"min\": 10000.0,\n        \"max\": 15815690.0,\n        \"num_unique_values\": 8,\n        \"samples\": [\n          15690940.5694,\n          15690738.0,\n          10000.0\n        ],\n        \"semantic_type\": \"\",\n        \"description\": \"\"\n      }\n    },\n    {\n      \"column\": \"CreditScore\",\n      \"properties\": {\n        \"dtype\": \"number\",\n        \"std\": 3346.7223968706257,\n        \"min\": 96.65329873613035,\n        \"max\": 10000.0,\n        \"num_unique_values\": 8,\n        \"samples\": [\n          650.5288,\n          652.0,\n          10000.0\n        ],\n        \"semantic_type\": \"\",\n        \"description\": \"\"\n      }\n    },\n    {\n      \"column\": \"Age\",\n      \"properties\": {\n        \"dtype\": \"number\",\n        \"std\": 3521.859127755016,\n        \"min\": 10.487806451704609,\n        \"max\": 10000.0,\n        \"num_unique_values\": 8,\n        \"samples\": [\n          38.9218,\n          37.0,\n          10000.0\n        ],\n        \"semantic_type\": \"\",\n        \"description\": \"\"\n      }\n    },\n    {\n      \"column\": \"Tenure\",\n      \"properties\": {\n        \"dtype\": \"number\",\n        \"std\": 3533.8732032133667,\n        \"min\": 0.0,\n        \"max\": 10000.0,\n        \"num_unique_values\": 8,\n        \"samples\": [\n          5.0128,\n          5.0,\n          10000.0\n        ],\n        \"semantic_type\": \"\",\n        \"description\": \"\"\n      }\n    },\n    {\n      \"column\": \"Balance\",\n      \"properties\": {\n        \"dtype\": \"number\",\n        \"std\": 84316.21503683121,\n        \"min\": 0.0,\n        \"max\": 250898.09,\n        \"num_unique_values\": 7,\n        \"samples\": [\n          10000.0,\n          76485.889288,\n          127644.24\n        ],\n        \"semantic_type\": \"\",\n        \"description\": \"\"\n      }\n    },\n    {\n      \"column\": \"Num Of Products\",\n      \"properties\": {\n        \"dtype\": \"number\",\n        \"std\": 3534.9728350092923,\n        \"min\": 0.5816543579989906,\n        \"max\": 10000.0,\n        \"num_unique_values\": 6,\n        \"samples\": [\n          10000.0,\n          1.5302,\n          4.0\n        ],\n        \"semantic_type\": \"\",\n        \"description\": \"\"\n      }\n    },\n    {\n      \"column\": \"Has Credit Card\",\n      \"properties\": {\n        \"dtype\": \"number\",\n        \"std\": 3535.3237513853414,\n        \"min\": 0.0,\n        \"max\": 10000.0,\n        \"num_unique_values\": 5,\n        \"samples\": [\n          0.7055,\n          1.0,\n          0.4558404644751333\n        ],\n        \"semantic_type\": \"\",\n        \"description\": \"\"\n      }\n    },\n    {\n      \"column\": \"Is Active Member\",\n      \"properties\": {\n        \"dtype\": \"number\",\n        \"std\": 3535.3311475099704,\n        \"min\": 0.0,\n        \"max\": 10000.0,\n        \"num_unique_values\": 5,\n        \"samples\": [\n          0.5151,\n          1.0,\n          0.49979692845891893\n        ],\n        \"semantic_type\": \"\",\n        \"description\": \"\"\n      }\n    },\n    {\n      \"column\": \"Estimated Salary\",\n      \"properties\": {\n        \"dtype\": \"number\",\n        \"std\": 68211.65700170657,\n        \"min\": 11.58,\n        \"max\": 199992.48,\n        \"num_unique_values\": 8,\n        \"samples\": [\n          100090.239881,\n          100193.915,\n          10000.0\n        ],\n        \"semantic_type\": \"\",\n        \"description\": \"\"\n      }\n    },\n    {\n      \"column\": \"Churn\",\n      \"properties\": {\n        \"dtype\": \"number\",\n        \"std\": 3535.452783887065,\n        \"min\": 0.0,\n        \"max\": 10000.0,\n        \"num_unique_values\": 5,\n        \"samples\": [\n          0.2037,\n          1.0,\n          0.4027685839948609\n        ],\n        \"semantic_type\": \"\",\n        \"description\": \"\"\n      }\n    }\n  ]\n}"
            }
          },
          "metadata": {},
          "execution_count": 9
        }
      ]
    },
    {
      "cell_type": "code",
      "source": [
        "df.columns"
      ],
      "metadata": {
        "colab": {
          "base_uri": "https://localhost:8080/"
        },
        "id": "w3xpkEhwZcJw",
        "outputId": "05899374-d3aa-48c5-ea49-4b4108d088d2"
      },
      "execution_count": 10,
      "outputs": [
        {
          "output_type": "execute_result",
          "data": {
            "text/plain": [
              "Index(['CustomerId', 'Surname', 'CreditScore', 'Geography', 'Gender', 'Age',\n",
              "       'Tenure', 'Balance', 'Num Of Products', 'Has Credit Card',\n",
              "       'Is Active Member', 'Estimated Salary', 'Churn'],\n",
              "      dtype='object')"
            ]
          },
          "metadata": {},
          "execution_count": 10
        }
      ]
    },
    {
      "cell_type": "code",
      "source": [
        "df.duplicated('CustomerId').sum()"
      ],
      "metadata": {
        "colab": {
          "base_uri": "https://localhost:8080/"
        },
        "id": "J6EUSzMnZsyb",
        "outputId": "cc65ee4d-c927-40a1-cbdf-1183d716ff03"
      },
      "execution_count": 12,
      "outputs": [
        {
          "output_type": "execute_result",
          "data": {
            "text/plain": [
              "0"
            ]
          },
          "metadata": {},
          "execution_count": 12
        }
      ]
    },
    {
      "cell_type": "code",
      "source": [
        "df = df.set_index('CustomerId')"
      ],
      "metadata": {
        "id": "hLAdUvUVa2VG"
      },
      "execution_count": 13,
      "outputs": []
    },
    {
      "cell_type": "code",
      "source": [
        "df.info()"
      ],
      "metadata": {
        "colab": {
          "base_uri": "https://localhost:8080/"
        },
        "id": "yjylwPo3bHSd",
        "outputId": "b0c321cc-7a55-4c09-cbef-874549c762c3"
      },
      "execution_count": 14,
      "outputs": [
        {
          "output_type": "stream",
          "name": "stdout",
          "text": [
            "<class 'pandas.core.frame.DataFrame'>\n",
            "Index: 10000 entries, 15634602 to 15628319\n",
            "Data columns (total 12 columns):\n",
            " #   Column            Non-Null Count  Dtype  \n",
            "---  ------            --------------  -----  \n",
            " 0   Surname           10000 non-null  object \n",
            " 1   CreditScore       10000 non-null  int64  \n",
            " 2   Geography         10000 non-null  object \n",
            " 3   Gender            10000 non-null  object \n",
            " 4   Age               10000 non-null  int64  \n",
            " 5   Tenure            10000 non-null  int64  \n",
            " 6   Balance           10000 non-null  float64\n",
            " 7   Num Of Products   10000 non-null  int64  \n",
            " 8   Has Credit Card   10000 non-null  int64  \n",
            " 9   Is Active Member  10000 non-null  int64  \n",
            " 10  Estimated Salary  10000 non-null  float64\n",
            " 11  Churn             10000 non-null  int64  \n",
            "dtypes: float64(2), int64(7), object(3)\n",
            "memory usage: 1015.6+ KB\n"
          ]
        }
      ]
    },
    {
      "cell_type": "markdown",
      "source": [
        "#Encoding"
      ],
      "metadata": {
        "id": "bItWBpgkbcEy"
      }
    },
    {
      "cell_type": "code",
      "source": [
        "df['Geography'].value_counts()"
      ],
      "metadata": {
        "colab": {
          "base_uri": "https://localhost:8080/",
          "height": 210
        },
        "id": "ypDJCL-EbNSY",
        "outputId": "3579a5d4-db4e-419c-9f20-98b415fec1fd"
      },
      "execution_count": 15,
      "outputs": [
        {
          "output_type": "execute_result",
          "data": {
            "text/plain": [
              "Geography\n",
              "France     5014\n",
              "Germany    2509\n",
              "Spain      2477\n",
              "Name: count, dtype: int64"
            ],
            "text/html": [
              "<div>\n",
              "<style scoped>\n",
              "    .dataframe tbody tr th:only-of-type {\n",
              "        vertical-align: middle;\n",
              "    }\n",
              "\n",
              "    .dataframe tbody tr th {\n",
              "        vertical-align: top;\n",
              "    }\n",
              "\n",
              "    .dataframe thead th {\n",
              "        text-align: right;\n",
              "    }\n",
              "</style>\n",
              "<table border=\"1\" class=\"dataframe\">\n",
              "  <thead>\n",
              "    <tr style=\"text-align: right;\">\n",
              "      <th></th>\n",
              "      <th>count</th>\n",
              "    </tr>\n",
              "    <tr>\n",
              "      <th>Geography</th>\n",
              "      <th></th>\n",
              "    </tr>\n",
              "  </thead>\n",
              "  <tbody>\n",
              "    <tr>\n",
              "      <th>France</th>\n",
              "      <td>5014</td>\n",
              "    </tr>\n",
              "    <tr>\n",
              "      <th>Germany</th>\n",
              "      <td>2509</td>\n",
              "    </tr>\n",
              "    <tr>\n",
              "      <th>Spain</th>\n",
              "      <td>2477</td>\n",
              "    </tr>\n",
              "  </tbody>\n",
              "</table>\n",
              "</div><br><label><b>dtype:</b> int64</label>"
            ]
          },
          "metadata": {},
          "execution_count": 15
        }
      ]
    },
    {
      "cell_type": "code",
      "source": [
        "df.replace({'Geography': {'France':2, 'Germany':1, 'Spain':0}}, inplace=True)"
      ],
      "metadata": {
        "id": "wkHkC2-9bmdU"
      },
      "execution_count": 16,
      "outputs": []
    },
    {
      "cell_type": "code",
      "source": [
        "df['Gender'].value_counts()"
      ],
      "metadata": {
        "colab": {
          "base_uri": "https://localhost:8080/",
          "height": 178
        },
        "id": "KFXQHX8acQYZ",
        "outputId": "9a12edb2-27e6-4560-df93-1fa5305ce6c7"
      },
      "execution_count": 17,
      "outputs": [
        {
          "output_type": "execute_result",
          "data": {
            "text/plain": [
              "Gender\n",
              "Male      5457\n",
              "Female    4543\n",
              "Name: count, dtype: int64"
            ],
            "text/html": [
              "<div>\n",
              "<style scoped>\n",
              "    .dataframe tbody tr th:only-of-type {\n",
              "        vertical-align: middle;\n",
              "    }\n",
              "\n",
              "    .dataframe tbody tr th {\n",
              "        vertical-align: top;\n",
              "    }\n",
              "\n",
              "    .dataframe thead th {\n",
              "        text-align: right;\n",
              "    }\n",
              "</style>\n",
              "<table border=\"1\" class=\"dataframe\">\n",
              "  <thead>\n",
              "    <tr style=\"text-align: right;\">\n",
              "      <th></th>\n",
              "      <th>count</th>\n",
              "    </tr>\n",
              "    <tr>\n",
              "      <th>Gender</th>\n",
              "      <th></th>\n",
              "    </tr>\n",
              "  </thead>\n",
              "  <tbody>\n",
              "    <tr>\n",
              "      <th>Male</th>\n",
              "      <td>5457</td>\n",
              "    </tr>\n",
              "    <tr>\n",
              "      <th>Female</th>\n",
              "      <td>4543</td>\n",
              "    </tr>\n",
              "  </tbody>\n",
              "</table>\n",
              "</div><br><label><b>dtype:</b> int64</label>"
            ]
          },
          "metadata": {},
          "execution_count": 17
        }
      ]
    },
    {
      "cell_type": "code",
      "source": [
        "df.replace({'Gender': {'Female':1, 'Male':0}}, inplace=True)"
      ],
      "metadata": {
        "id": "YyoYr0TncX5e"
      },
      "execution_count": 18,
      "outputs": []
    },
    {
      "cell_type": "code",
      "source": [
        "df['Num Of Products'].value_counts()"
      ],
      "metadata": {
        "colab": {
          "base_uri": "https://localhost:8080/",
          "height": 241
        },
        "id": "w9dDlPHXcbzz",
        "outputId": "719f947c-2050-4fad-9280-33763bc79149"
      },
      "execution_count": 19,
      "outputs": [
        {
          "output_type": "execute_result",
          "data": {
            "text/plain": [
              "Num Of Products\n",
              "1    5084\n",
              "2    4590\n",
              "3     266\n",
              "4      60\n",
              "Name: count, dtype: int64"
            ],
            "text/html": [
              "<div>\n",
              "<style scoped>\n",
              "    .dataframe tbody tr th:only-of-type {\n",
              "        vertical-align: middle;\n",
              "    }\n",
              "\n",
              "    .dataframe tbody tr th {\n",
              "        vertical-align: top;\n",
              "    }\n",
              "\n",
              "    .dataframe thead th {\n",
              "        text-align: right;\n",
              "    }\n",
              "</style>\n",
              "<table border=\"1\" class=\"dataframe\">\n",
              "  <thead>\n",
              "    <tr style=\"text-align: right;\">\n",
              "      <th></th>\n",
              "      <th>count</th>\n",
              "    </tr>\n",
              "    <tr>\n",
              "      <th>Num Of Products</th>\n",
              "      <th></th>\n",
              "    </tr>\n",
              "  </thead>\n",
              "  <tbody>\n",
              "    <tr>\n",
              "      <th>1</th>\n",
              "      <td>5084</td>\n",
              "    </tr>\n",
              "    <tr>\n",
              "      <th>2</th>\n",
              "      <td>4590</td>\n",
              "    </tr>\n",
              "    <tr>\n",
              "      <th>3</th>\n",
              "      <td>266</td>\n",
              "    </tr>\n",
              "    <tr>\n",
              "      <th>4</th>\n",
              "      <td>60</td>\n",
              "    </tr>\n",
              "  </tbody>\n",
              "</table>\n",
              "</div><br><label><b>dtype:</b> int64</label>"
            ]
          },
          "metadata": {},
          "execution_count": 19
        }
      ]
    },
    {
      "cell_type": "code",
      "source": [
        "df.replace({'Num Of Products': {1:0, 2:1, 3:1, 4:1}}, inplace=True)"
      ],
      "metadata": {
        "id": "xUeJqnzHcfo7"
      },
      "execution_count": 20,
      "outputs": []
    },
    {
      "cell_type": "code",
      "source": [
        "df['Has Credit Card'].value_counts()"
      ],
      "metadata": {
        "colab": {
          "base_uri": "https://localhost:8080/",
          "height": 178
        },
        "id": "fUjJRNQQduLM",
        "outputId": "275b54e8-6d33-46aa-fbe3-e190710bca36"
      },
      "execution_count": 21,
      "outputs": [
        {
          "output_type": "execute_result",
          "data": {
            "text/plain": [
              "Has Credit Card\n",
              "1    7055\n",
              "0    2945\n",
              "Name: count, dtype: int64"
            ],
            "text/html": [
              "<div>\n",
              "<style scoped>\n",
              "    .dataframe tbody tr th:only-of-type {\n",
              "        vertical-align: middle;\n",
              "    }\n",
              "\n",
              "    .dataframe tbody tr th {\n",
              "        vertical-align: top;\n",
              "    }\n",
              "\n",
              "    .dataframe thead th {\n",
              "        text-align: right;\n",
              "    }\n",
              "</style>\n",
              "<table border=\"1\" class=\"dataframe\">\n",
              "  <thead>\n",
              "    <tr style=\"text-align: right;\">\n",
              "      <th></th>\n",
              "      <th>count</th>\n",
              "    </tr>\n",
              "    <tr>\n",
              "      <th>Has Credit Card</th>\n",
              "      <th></th>\n",
              "    </tr>\n",
              "  </thead>\n",
              "  <tbody>\n",
              "    <tr>\n",
              "      <th>1</th>\n",
              "      <td>7055</td>\n",
              "    </tr>\n",
              "    <tr>\n",
              "      <th>0</th>\n",
              "      <td>2945</td>\n",
              "    </tr>\n",
              "  </tbody>\n",
              "</table>\n",
              "</div><br><label><b>dtype:</b> int64</label>"
            ]
          },
          "metadata": {},
          "execution_count": 21
        }
      ]
    },
    {
      "cell_type": "code",
      "source": [
        "df['Is Active Member'].value_counts()"
      ],
      "metadata": {
        "colab": {
          "base_uri": "https://localhost:8080/",
          "height": 178
        },
        "id": "iBESUE5_dyaU",
        "outputId": "e378d871-2688-4fa0-e06f-dbbfc95a7f41"
      },
      "execution_count": 22,
      "outputs": [
        {
          "output_type": "execute_result",
          "data": {
            "text/plain": [
              "Is Active Member\n",
              "1    5151\n",
              "0    4849\n",
              "Name: count, dtype: int64"
            ],
            "text/html": [
              "<div>\n",
              "<style scoped>\n",
              "    .dataframe tbody tr th:only-of-type {\n",
              "        vertical-align: middle;\n",
              "    }\n",
              "\n",
              "    .dataframe tbody tr th {\n",
              "        vertical-align: top;\n",
              "    }\n",
              "\n",
              "    .dataframe thead th {\n",
              "        text-align: right;\n",
              "    }\n",
              "</style>\n",
              "<table border=\"1\" class=\"dataframe\">\n",
              "  <thead>\n",
              "    <tr style=\"text-align: right;\">\n",
              "      <th></th>\n",
              "      <th>count</th>\n",
              "    </tr>\n",
              "    <tr>\n",
              "      <th>Is Active Member</th>\n",
              "      <th></th>\n",
              "    </tr>\n",
              "  </thead>\n",
              "  <tbody>\n",
              "    <tr>\n",
              "      <th>1</th>\n",
              "      <td>5151</td>\n",
              "    </tr>\n",
              "    <tr>\n",
              "      <th>0</th>\n",
              "      <td>4849</td>\n",
              "    </tr>\n",
              "  </tbody>\n",
              "</table>\n",
              "</div><br><label><b>dtype:</b> int64</label>"
            ]
          },
          "metadata": {},
          "execution_count": 22
        }
      ]
    },
    {
      "cell_type": "code",
      "source": [
        "df.loc[(df['Balance']==0), 'Churn'].value_counts()"
      ],
      "metadata": {
        "colab": {
          "base_uri": "https://localhost:8080/",
          "height": 178
        },
        "id": "C5J8xgG_e33_",
        "outputId": "db8e9a3b-41ff-4044-d97f-da799f6c7c32"
      },
      "execution_count": 26,
      "outputs": [
        {
          "output_type": "execute_result",
          "data": {
            "text/plain": [
              "Churn\n",
              "0    3117\n",
              "1     500\n",
              "Name: count, dtype: int64"
            ],
            "text/html": [
              "<div>\n",
              "<style scoped>\n",
              "    .dataframe tbody tr th:only-of-type {\n",
              "        vertical-align: middle;\n",
              "    }\n",
              "\n",
              "    .dataframe tbody tr th {\n",
              "        vertical-align: top;\n",
              "    }\n",
              "\n",
              "    .dataframe thead th {\n",
              "        text-align: right;\n",
              "    }\n",
              "</style>\n",
              "<table border=\"1\" class=\"dataframe\">\n",
              "  <thead>\n",
              "    <tr style=\"text-align: right;\">\n",
              "      <th></th>\n",
              "      <th>count</th>\n",
              "    </tr>\n",
              "    <tr>\n",
              "      <th>Churn</th>\n",
              "      <th></th>\n",
              "    </tr>\n",
              "  </thead>\n",
              "  <tbody>\n",
              "    <tr>\n",
              "      <th>0</th>\n",
              "      <td>3117</td>\n",
              "    </tr>\n",
              "    <tr>\n",
              "      <th>1</th>\n",
              "      <td>500</td>\n",
              "    </tr>\n",
              "  </tbody>\n",
              "</table>\n",
              "</div><br><label><b>dtype:</b> int64</label>"
            ]
          },
          "metadata": {},
          "execution_count": 26
        }
      ]
    },
    {
      "cell_type": "code",
      "source": [
        "df['Zero Balance'] = np.where(df['Balance']>0, 1, 0)"
      ],
      "metadata": {
        "id": "rwN0udold0vR"
      },
      "execution_count": 28,
      "outputs": []
    },
    {
      "cell_type": "code",
      "source": [
        "df['Zero Balance'].hist()"
      ],
      "metadata": {
        "colab": {
          "base_uri": "https://localhost:8080/",
          "height": 447
        },
        "id": "9yMSxzvVev0k",
        "outputId": "82dba399-8ba9-4f54-c9db-1c04fc998873"
      },
      "execution_count": 29,
      "outputs": [
        {
          "output_type": "execute_result",
          "data": {
            "text/plain": [
              "<Axes: >"
            ]
          },
          "metadata": {},
          "execution_count": 29
        },
        {
          "output_type": "display_data",
          "data": {
            "text/plain": [
              "<Figure size 640x480 with 1 Axes>"
            ],
            "image/png": "[encoded data removed]"
          },
          "metadata": {}
        }
      ]
    },
    {
      "cell_type": "code",
      "source": [
        "df.groupby(['Churn', 'Geography']).count()"
      ],
      "metadata": {
        "colab": {
          "base_uri": "https://localhost:8080/",
          "height": 324
        },
        "id": "K4sNhyE_ey2G",
        "outputId": "e27468de-3e27-4e8b-d48d-1eae5c6ea33f"
      },
      "execution_count": 30,
      "outputs": [
        {
          "output_type": "execute_result",
          "data": {
            "text/plain": [
              "                 Surname  CreditScore  Gender   Age  Tenure  Balance  \\\n",
              "Churn Geography                                                        \n",
              "0     0             2064         2064    2064  2064    2064     2064   \n",
              "      1             1695         1695    1695  1695    1695     1695   \n",
              "      2             4204         4204    4204  4204    4204     4204   \n",
              "1     0              413          413     413   413     413      413   \n",
              "      1              814          814     814   814     814      814   \n",
              "      2              810          810     810   810     810      810   \n",
              "\n",
              "                 Num Of Products  Has Credit Card  Is Active Member  \\\n",
              "Churn Geography                                                       \n",
              "0     0                     2064             2064              2064   \n",
              "      1                     1695             1695              1695   \n",
              "      2                     4204             4204              4204   \n",
              "1     0                      413              413               413   \n",
              "      1                      814              814               814   \n",
              "      2                      810              810               810   \n",
              "\n",
              "                 Estimated Salary  Zero Balance  \n",
              "Churn Geography                                  \n",
              "0     0                      2064          2064  \n",
              "      1                      1695          1695  \n",
              "      2                      4204          4204  \n",
              "1     0                       413           413  \n",
              "      1                       814           814  \n",
              "      2                       810           810  "
            ],
            "text/html": [
              "\n",
              "  <div id=\"df-c11d350c-6e5c-474e-956a-066e3da6532d\" class=\"colab-df-container\">\n",
              "    <div>\n",
              "<style scoped>\n",
              "    .dataframe tbody tr th:only-of-type {\n",
              "        vertical-align: middle;\n",
              "    }\n",
              "\n",
              "    .dataframe tbody tr th {\n",
              "        vertical-align: top;\n",
              "    }\n",
              "\n",
              "    .dataframe thead th {\n",
              "        text-align: right;\n",
              "    }\n",
              "</style>\n",
              "<table border=\"1\" class=\"dataframe\">\n",
              "  <thead>\n",
              "    <tr style=\"text-align: right;\">\n",
              "      <th></th>\n",
              "      <th></th>\n",
              "      <th>Surname</th>\n",
              "      <th>CreditScore</th>\n",
              "      <th>Gender</th>\n",
              "      <th>Age</th>\n",
              "      <th>Tenure</th>\n",
              "      <th>Balance</th>\n",
              "      <th>Num Of Products</th>\n",
              "      <th>Has Credit Card</th>\n",
              "      <th>Is Active Member</th>\n",
              "      <th>Estimated Salary</th>\n",
              "      <th>Zero Balance</th>\n",
              "    </tr>\n",
              "    <tr>\n",
              "      <th>Churn</th>\n",
              "      <th>Geography</th>\n",
              "      <th></th>\n",
              "      <th></th>\n",
              "      <th></th>\n",
              "      <th></th>\n",
              "      <th></th>\n",
              "      <th></th>\n",
              "      <th></th>\n",
              "      <th></th>\n",
              "      <th></th>\n",
              "      <th></th>\n",
              "      <th></th>\n",
              "    </tr>\n",
              "  </thead>\n",
              "  <tbody>\n",
              "    <tr>\n",
              "      <th rowspan=\"3\" valign=\"top\">0</th>\n",
              "      <th>0</th>\n",
              "      <td>2064</td>\n",
              "      <td>2064</td>\n",
              "      <td>2064</td>\n",
              "      <td>2064</td>\n",
              "      <td>2064</td>\n",
              "      <td>2064</td>\n",
              "      <td>2064</td>\n",
              "      <td>2064</td>\n",
              "      <td>2064</td>\n",
              "      <td>2064</td>\n",
              "      <td>2064</td>\n",
              "    </tr>\n",
              "    <tr>\n",
              "      <th>1</th>\n",
              "      <td>1695</td>\n",
              "      <td>1695</td>\n",
              "      <td>1695</td>\n",
              "      <td>1695</td>\n",
              "      <td>1695</td>\n",
              "      <td>1695</td>\n",
              "      <td>1695</td>\n",
              "      <td>1695</td>\n",
              "      <td>1695</td>\n",
              "      <td>1695</td>\n",
              "      <td>1695</td>\n",
              "    </tr>\n",
              "    <tr>\n",
              "      <th>2</th>\n",
              "      <td>4204</td>\n",
              "      <td>4204</td>\n",
              "      <td>4204</td>\n",
              "      <td>4204</td>\n",
              "      <td>4204</td>\n",
              "      <td>4204</td>\n",
              "      <td>4204</td>\n",
              "      <td>4204</td>\n",
              "      <td>4204</td>\n",
              "      <td>4204</td>\n",
              "      <td>4204</td>\n",
              "    </tr>\n",
              "    <tr>\n",
              "      <th rowspan=\"3\" valign=\"top\">1</th>\n",
              "      <th>0</th>\n",
              "      <td>413</td>\n",
              "      <td>413</td>\n",
              "      <td>413</td>\n",
              "      <td>413</td>\n",
              "      <td>413</td>\n",
              "      <td>413</td>\n",
              "      <td>413</td>\n",
              "      <td>413</td>\n",
              "      <td>413</td>\n",
              "      <td>413</td>\n",
              "      <td>413</td>\n",
              "    </tr>\n",
              "    <tr>\n",
              "      <th>1</th>\n",
              "      <td>814</td>\n",
              "      <td>814</td>\n",
              "      <td>814</td>\n",
              "      <td>814</td>\n",
              "      <td>814</td>\n",
              "      <td>814</td>\n",
              "      <td>814</td>\n",
              "      <td>814</td>\n",
              "      <td>814</td>\n",
              "      <td>814</td>\n",
              "      <td>814</td>\n",
              "    </tr>\n",
              "    <tr>\n",
              "      <th>2</th>\n",
              "      <td>810</td>\n",
              "      <td>810</td>\n",
              "      <td>810</td>\n",
              "      <td>810</td>\n",
              "      <td>810</td>\n",
              "      <td>810</td>\n",
              "      <td>810</td>\n",
              "      <td>810</td>\n",
              "      <td>810</td>\n",
              "      <td>810</td>\n",
              "      <td>810</td>\n",
              "    </tr>\n",
              "  </tbody>\n",
              "</table>\n",
              "</div>\n",
              "    <div class=\"colab-df-buttons\">\n",
              "\n",
              "  <div class=\"colab-df-container\">\n",
              "    <button class=\"colab-df-convert\" onclick=\"convertToInteractive('df-c11d350c-6e5c-474e-956a-066e3da6532d')\"\n",
              "            title=\"Convert this dataframe to an interactive table.\"\n",
              "            style=\"display:none;\">\n",
              "\n",
              "  <svg xmlns=\"http://www.w3.org/2000/svg\" height=\"24px\" viewBox=\"0 -960 960 960\">\n",
              "    <path d=\"M120-120v-720h720v720H120Zm60-500h600v-160H180v160Zm220 220h160v-160H400v160Zm0 220h160v-160H400v160ZM180-400h160v-160H180v160Zm440 0h160v-160H620v160ZM180-180h160v-160H180v160Zm440 0h160v-160H620v160Z\"/>\n",
              "  </svg>\n",
              "    </button>\n",
              "\n",
              "  <style>\n",
              "    .colab-df-container {\n",
              "      display:flex;\n",
              "      gap: 12px;\n",
              "    }\n",
              "\n",
              "    .colab-df-convert {\n",
              "      background-color: #E8F0FE;\n",
              "      border: none;\n",
              "      border-radius: 50%;\n",
              "      cursor: pointer;\n",
              "      display: none;\n",
              "      fill: #1967D2;\n",
              "      height: 32px;\n",
              "      padding: 0 0 0 0;\n",
              "      width: 32px;\n",
              "    }\n",
              "\n",
              "    .colab-df-convert:hover {\n",
              "      background-color: #E2EBFA;\n",
              "      box-shadow: 0px 1px 2px rgba(60, 64, 67, 0.3), 0px 1px 3px 1px rgba(60, 64, 67, 0.15);\n",
              "      fill: #174EA6;\n",
              "    }\n",
              "\n",
              "    .colab-df-buttons div {\n",
              "      margin-bottom: 4px;\n",
              "    }\n",
              "\n",
              "    [theme=dark] .colab-df-convert {\n",
              "      background-color: #3B4455;\n",
              "      fill: #D2E3FC;\n",
              "    }\n",
              "\n",
              "    [theme=dark] .colab-df-convert:hover {\n",
              "      background-color: #434B5C;\n",
              "      box-shadow: 0px 1px 3px 1px rgba(0, 0, 0, 0.15);\n",
              "      filter: drop-shadow(0px 1px 2px rgba(0, 0, 0, 0.3));\n",
              "      fill: #FFFFFF;\n",
              "    }\n",
              "  </style>\n",
              "\n",
              "    <script>\n",
              "      const buttonEl =\n",
              "        document.querySelector('#df-c11d350c-6e5c-474e-956a-066e3da6532d button.colab-df-convert');\n",
              "      buttonEl.style.display =\n",
              "        google.colab.kernel.accessAllowed ? 'block' : 'none';\n",
              "\n",
              "      async function convertToInteractive(key) {\n",
              "        const element = document.querySelector('#df-c11d350c-6e5c-474e-956a-066e3da6532d');\n",
              "        const dataTable =\n",
              "          await google.colab.kernel.invokeFunction('convertToInteractive',\n",
              "                                                    [key], {});\n",
              "        if (!dataTable) return;\n",
              "\n",
              "        const docLinkHtml = 'Like what you see? Visit the ' +\n",
              "          '<a target=\"_blank\" href=https://colab.research.google.com/notebooks/data_table.ipynb>data table notebook</a>'\n",
              "          + ' to learn more about interactive tables.';\n",
              "        element.innerHTML = '';\n",
              "        dataTable['output_type'] = 'display_data';\n",
              "        await google.colab.output.renderOutput(dataTable, element);\n",
              "        const docLink = document.createElement('div');\n",
              "        docLink.innerHTML = docLinkHtml;\n",
              "        element.appendChild(docLink);\n",
              "      }\n",
              "    </script>\n",
              "  </div>\n",
              "\n",
              "\n",
              "<div id=\"df-52ca138a-e45b-4919-a6a5-f9b17b1d654f\">\n",
              "  <button class=\"colab-df-quickchart\" onclick=\"quickchart('df-52ca138a-e45b-4919-a6a5-f9b17b1d654f')\"\n",
              "            title=\"Suggest charts\"\n",
              "            style=\"display:none;\">\n",
              "\n",
              "<svg xmlns=\"http://www.w3.org/2000/svg\" height=\"24px\"viewBox=\"0 0 24 24\"\n",
              "     width=\"24px\">\n",
              "    <g>\n",
              "        <path d=\"M19 3H5c-1.1 0-2 .9-2 2v14c0 1.1.9 2 2 2h14c1.1 0 2-.9 2-2V5c0-1.1-.9-2-2-2zM9 17H7v-7h2v7zm4 0h-2V7h2v10zm4 0h-2v-4h2v4z\"/>\n",
              "    </g>\n",
              "</svg>\n",
              "  </button>\n",
              "\n",
              "<style>\n",
              "  .colab-df-quickchart {\n",
              "      --bg-color: #E8F0FE;\n",
              "      --fill-color: #1967D2;\n",
              "      --hover-bg-color: #E2EBFA;\n",
              "      --hover-fill-color: #174EA6;\n",
              "      --disabled-fill-color: #AAA;\n",
              "      --disabled-bg-color: #DDD;\n",
              "  }\n",
              "\n",
              "  [theme=dark] .colab-df-quickchart {\n",
              "      --bg-color: #3B4455;\n",
              "      --fill-color: #D2E3FC;\n",
              "      --hover-bg-color: #434B5C;\n",
              "      --hover-fill-color: #FFFFFF;\n",
              "      --disabled-bg-color: #3B4455;\n",
              "      --disabled-fill-color: #666;\n",
              "  }\n",
              "\n",
              "  .colab-df-quickchart {\n",
              "    background-color: var(--bg-color);\n",
              "    border: none;\n",
              "    border-radius: 50%;\n",
              "    cursor: pointer;\n",
              "    display: none;\n",
              "    fill: var(--fill-color);\n",
              "    height: 32px;\n",
              "    padding: 0;\n",
              "    width: 32px;\n",
              "  }\n",
              "\n",
              "  .colab-df-quickchart:hover {\n",
              "    background-color: var(--hover-bg-color);\n",
              "    box-shadow: 0 1px 2px rgba(60, 64, 67, 0.3), 0 1px 3px 1px rgba(60, 64, 67, 0.15);\n",
              "    fill: var(--button-hover-fill-color);\n",
              "  }\n",
              "\n",
              "  .colab-df-quickchart-complete:disabled,\n",
              "  .colab-df-quickchart-complete:disabled:hover {\n",
              "    background-color: var(--disabled-bg-color);\n",
              "    fill: var(--disabled-fill-color);\n",
              "    box-shadow: none;\n",
              "  }\n",
              "\n",
              "  .colab-df-spinner {\n",
              "    border: 2px solid var(--fill-color);\n",
              "    border-color: transparent;\n",
              "    border-bottom-color: var(--fill-color);\n",
              "    animation:\n",
              "      spin 1s steps(1) infinite;\n",
              "  }\n",
              "\n",
              "  @keyframes spin {\n",
              "    0% {\n",
              "      border-color: transparent;\n",
              "      border-bottom-color: var(--fill-color);\n",
              "      border-left-color: var(--fill-color);\n",
              "    }\n",
              "    20% {\n",
              "      border-color: transparent;\n",
              "      border-left-color: var(--fill-color);\n",
              "      border-top-color: var(--fill-color);\n",
              "    }\n",
              "    30% {\n",
              "      border-color: transparent;\n",
              "      border-left-color: var(--fill-color);\n",
              "      border-top-color: var(--fill-color);\n",
              "      border-right-color: var(--fill-color);\n",
              "    }\n",
              "    40% {\n",
              "      border-color: transparent;\n",
              "      border-right-color: var(--fill-color);\n",
              "      border-top-color: var(--fill-color);\n",
              "    }\n",
              "    60% {\n",
              "      border-color: transparent;\n",
              "      border-right-color: var(--fill-color);\n",
              "    }\n",
              "    80% {\n",
              "      border-color: transparent;\n",
              "      border-right-color: var(--fill-color);\n",
              "      border-bottom-color: var(--fill-color);\n",
              "    }\n",
              "    90% {\n",
              "      border-color: transparent;\n",
              "      border-bottom-color: var(--fill-color);\n",
              "    }\n",
              "  }\n",
              "</style>\n",
              "\n",
              "  <script>\n",
              "    async function quickchart(key) {\n",
              "      const quickchartButtonEl =\n",
              "        document.querySelector('#' + key + ' button');\n",
              "      quickchartButtonEl.disabled = true;  // To prevent multiple clicks.\n",
              "      quickchartButtonEl.classList.add('colab-df-spinner');\n",
              "      try {\n",
              "        const charts = await google.colab.kernel.invokeFunction(\n",
              "            'suggestCharts', [key], {});\n",
              "      } catch (error) {\n",
              "        console.error('Error during call to suggestCharts:', error);\n",
              "      }\n",
              "      quickchartButtonEl.classList.remove('colab-df-spinner');\n",
              "      quickchartButtonEl.classList.add('colab-df-quickchart-complete');\n",
              "    }\n",
              "    (() => {\n",
              "      let quickchartButtonEl =\n",
              "        document.querySelector('#df-52ca138a-e45b-4919-a6a5-f9b17b1d654f button');\n",
              "      quickchartButtonEl.style.display =\n",
              "        google.colab.kernel.accessAllowed ? 'block' : 'none';\n",
              "    })();\n",
              "  </script>\n",
              "</div>\n",
              "\n",
              "    </div>\n",
              "  </div>\n"
            ],
            "application/vnd.google.colaboratory.intrinsic+json": {
              "type": "dataframe",
              "summary": "{\n  \"name\": \"df\",\n  \"rows\": 6,\n  \"fields\": [\n    {\n      \"column\": \"Surname\",\n      \"properties\": {\n        \"dtype\": \"number\",\n        \"std\": 1387,\n        \"min\": 413,\n        \"max\": 4204,\n        \"num_unique_values\": 6,\n        \"samples\": [\n          2064,\n          1695,\n          810\n        ],\n        \"semantic_type\": \"\",\n        \"description\": \"\"\n      }\n    },\n    {\n      \"column\": \"CreditScore\",\n      \"properties\": {\n        \"dtype\": \"number\",\n        \"std\": 1387,\n        \"min\": 413,\n        \"max\": 4204,\n        \"num_unique_values\": 6,\n        \"samples\": [\n          2064,\n          1695,\n          810\n        ],\n        \"semantic_type\": \"\",\n        \"description\": \"\"\n      }\n    },\n    {\n      \"column\": \"Gender\",\n      \"properties\": {\n        \"dtype\": \"number\",\n        \"std\": 1387,\n        \"min\": 413,\n        \"max\": 4204,\n        \"num_unique_values\": 6,\n        \"samples\": [\n          2064,\n          1695,\n          810\n        ],\n        \"semantic_type\": \"\",\n        \"description\": \"\"\n      }\n    },\n    {\n      \"column\": \"Age\",\n      \"properties\": {\n        \"dtype\": \"number\",\n        \"std\": 1387,\n        \"min\": 413,\n        \"max\": 4204,\n        \"num_unique_values\": 6,\n        \"samples\": [\n          2064,\n          1695,\n          810\n        ],\n        \"semantic_type\": \"\",\n        \"description\": \"\"\n      }\n    },\n    {\n      \"column\": \"Tenure\",\n      \"properties\": {\n        \"dtype\": \"number\",\n        \"std\": 1387,\n        \"min\": 413,\n        \"max\": 4204,\n        \"num_unique_values\": 6,\n        \"samples\": [\n          2064,\n          1695,\n          810\n        ],\n        \"semantic_type\": \"\",\n        \"description\": \"\"\n      }\n    },\n    {\n      \"column\": \"Balance\",\n      \"properties\": {\n        \"dtype\": \"number\",\n        \"std\": 1387,\n        \"min\": 413,\n        \"max\": 4204,\n        \"num_unique_values\": 6,\n        \"samples\": [\n          2064,\n          1695,\n          810\n        ],\n        \"semantic_type\": \"\",\n        \"description\": \"\"\n      }\n    },\n    {\n      \"column\": \"Num Of Products\",\n      \"properties\": {\n        \"dtype\": \"number\",\n        \"std\": 1387,\n        \"min\": 413,\n        \"max\": 4204,\n        \"num_unique_values\": 6,\n        \"samples\": [\n          2064,\n          1695,\n          810\n        ],\n        \"semantic_type\": \"\",\n        \"description\": \"\"\n      }\n    },\n    {\n      \"column\": \"Has Credit Card\",\n      \"properties\": {\n        \"dtype\": \"number\",\n        \"std\": 1387,\n        \"min\": 413,\n        \"max\": 4204,\n        \"num_unique_values\": 6,\n        \"samples\": [\n          2064,\n          1695,\n          810\n        ],\n        \"semantic_type\": \"\",\n        \"description\": \"\"\n      }\n    },\n    {\n      \"column\": \"Is Active Member\",\n      \"properties\": {\n        \"dtype\": \"number\",\n        \"std\": 1387,\n        \"min\": 413,\n        \"max\": 4204,\n        \"num_unique_values\": 6,\n        \"samples\": [\n          2064,\n          1695,\n          810\n        ],\n        \"semantic_type\": \"\",\n        \"description\": \"\"\n      }\n    },\n    {\n      \"column\": \"Estimated Salary\",\n      \"properties\": {\n        \"dtype\": \"number\",\n        \"std\": 1387,\n        \"min\": 413,\n        \"max\": 4204,\n        \"num_unique_values\": 6,\n        \"samples\": [\n          2064,\n          1695,\n          810\n        ],\n        \"semantic_type\": \"\",\n        \"description\": \"\"\n      }\n    },\n    {\n      \"column\": \"Zero Balance\",\n      \"properties\": {\n        \"dtype\": \"number\",\n        \"std\": 1387,\n        \"min\": 413,\n        \"max\": 4204,\n        \"num_unique_values\": 6,\n        \"samples\": [\n          2064,\n          1695,\n          810\n        ],\n        \"semantic_type\": \"\",\n        \"description\": \"\"\n      }\n    }\n  ]\n}"
            }
          },
          "metadata": {},
          "execution_count": 30
        }
      ]
    },
    {
      "cell_type": "markdown",
      "source": [
        "#Define Label and Features"
      ],
      "metadata": {
        "id": "kK4kBYVzhQnF"
      }
    },
    {
      "cell_type": "code",
      "source": [
        "X = df.drop(['Surname','Churn'], axis=1)"
      ],
      "metadata": {
        "id": "FYiKtpoKg8AV"
      },
      "execution_count": 35,
      "outputs": []
    },
    {
      "cell_type": "code",
      "source": [
        "y = df['Churn']"
      ],
      "metadata": {
        "id": "Wq6iIT1mhZgM"
      },
      "execution_count": 36,
      "outputs": []
    },
    {
      "cell_type": "code",
      "source": [
        "X.shape, y.shape"
      ],
      "metadata": {
        "colab": {
          "base_uri": "https://localhost:8080/"
        },
        "id": "rDjd5dRLhe2t",
        "outputId": "e6d40a8f-7b8f-4782-fbbf-d54aa27fce73"
      },
      "execution_count": 37,
      "outputs": [
        {
          "output_type": "execute_result",
          "data": {
            "text/plain": [
              "((10000, 11), (10000,))"
            ]
          },
          "metadata": {},
          "execution_count": 37
        }
      ]
    },
    {
      "cell_type": "markdown",
      "source": [
        "#Handling Imbalance Data\n",
        "\n",
        "Class Imbalance is a common problem in machine learning, especially in classification problems as machine learning algorithms are designed to maximize accuracy and reduce errors. If the data set is imbalance then in such cases, just by predicting the majority class we get a pretty high accuracy, but fails to capture the minority class, which is most often the point of creating the model in the first place. like in\n",
        "\n",
        "\n",
        "1. Fraud detection\n",
        "\n",
        "2. Spam filtering\n",
        "\n",
        "3. Disease screening\n",
        "\n",
        "4. Online sales churn\n",
        "\n",
        "5. Advertising click-throughs\n",
        "\n",
        "**Undersampling** can be defined as removing some observations of the majority class. This is done until the majority and minority class is balanced out.\n",
        "\n",
        "\n",
        "Undersampling can be a good choice when you have a ton of data -think millions of rows. But a drawback to undersampling is that we are removing information that may be valuable.\n",
        "\n",
        "In under-sampling, the simplest technique involves removing random records from the majority class, which can cause loss of information.\n",
        "\n",
        "A drawback to consider when undersampling is that it can cause overfitting and poor generalization to your test set.\n",
        "\n",
        "**Oversampling** can be defined as adding more copies to the minority class. Oversampling can be a good choice when you don't have a ton of data to work with.\n",
        "\n",
        "The simplest implementation of over-sampling is to duplicate random records from the minority class, which can cause overfiting.\n",
        "\n",
        "![image.png](data:image/png;base64,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)"
      ],
      "metadata": {
        "id": "fmnq7T1ah2H_"
      }
    },
    {
      "cell_type": "code",
      "source": [
        "df['Churn'].value_counts()"
      ],
      "metadata": {
        "colab": {
          "base_uri": "https://localhost:8080/",
          "height": 178
        },
        "id": "-PJxJrpphh03",
        "outputId": "e0996669-9c59-4d7e-ca66-fca2b8c08b5a"
      },
      "execution_count": 38,
      "outputs": [
        {
          "output_type": "execute_result",
          "data": {
            "text/plain": [
              "Churn\n",
              "0    7963\n",
              "1    2037\n",
              "Name: count, dtype: int64"
            ],
            "text/html": [
              "<div>\n",
              "<style scoped>\n",
              "    .dataframe tbody tr th:only-of-type {\n",
              "        vertical-align: middle;\n",
              "    }\n",
              "\n",
              "    .dataframe tbody tr th {\n",
              "        vertical-align: top;\n",
              "    }\n",
              "\n",
              "    .dataframe thead th {\n",
              "        text-align: right;\n",
              "    }\n",
              "</style>\n",
              "<table border=\"1\" class=\"dataframe\">\n",
              "  <thead>\n",
              "    <tr style=\"text-align: right;\">\n",
              "      <th></th>\n",
              "      <th>count</th>\n",
              "    </tr>\n",
              "    <tr>\n",
              "      <th>Churn</th>\n",
              "      <th></th>\n",
              "    </tr>\n",
              "  </thead>\n",
              "  <tbody>\n",
              "    <tr>\n",
              "      <th>0</th>\n",
              "      <td>7963</td>\n",
              "    </tr>\n",
              "    <tr>\n",
              "      <th>1</th>\n",
              "      <td>2037</td>\n",
              "    </tr>\n",
              "  </tbody>\n",
              "</table>\n",
              "</div><br><label><b>dtype:</b> int64</label>"
            ]
          },
          "metadata": {},
          "execution_count": 38
        }
      ]
    },
    {
      "cell_type": "code",
      "source": [
        "sns.countplot(x='Churn', data=df, hue='Churn')"
      ],
      "metadata": {
        "colab": {
          "base_uri": "https://localhost:8080/",
          "height": 466
        },
        "id": "KrLfH5w4kNT7",
        "outputId": "488f7b4e-13e6-4914-bc14-e5a4fe0282c2"
      },
      "execution_count": 40,
      "outputs": [
        {
          "output_type": "execute_result",
          "data": {
            "text/plain": [
              "<Axes: xlabel='Churn', ylabel='count'>"
            ]
          },
          "metadata": {},
          "execution_count": 40
        },
        {
          "output_type": "display_data",
          "data": {
            "text/plain": [
              "<Figure size 640x480 with 1 Axes>"
            ],
            "image/png": "[encoded data removed]"
          },
          "metadata": {}
        }
      ]
    },
    {
      "cell_type": "markdown",
      "source": [
        "#Random Under Sampling"
      ],
      "metadata": {
        "id": "aXYqeOmJkjGV"
      }
    },
    {
      "cell_type": "code",
      "source": [
        "from imblearn.under_sampling import RandomUnderSampler"
      ],
      "metadata": {
        "id": "na90GgPQkTtQ"
      },
      "execution_count": 41,
      "outputs": []
    },
    {
      "cell_type": "code",
      "source": [
        "rus = RandomUnderSampler(random_state=2529)"
      ],
      "metadata": {
        "id": "-PiX4mxAkrfc"
      },
      "execution_count": 42,
      "outputs": []
    },
    {
      "cell_type": "code",
      "source": [
        "X_rus, y_rus = rus.fit_resample(X, y)"
      ],
      "metadata": {
        "id": "UwNei60Mkwkr"
      },
      "execution_count": 43,
      "outputs": []
    },
    {
      "cell_type": "code",
      "source": [
        "y.value_counts()"
      ],
      "metadata": {
        "colab": {
          "base_uri": "https://localhost:8080/",
          "height": 178
        },
        "id": "f5ePyuMmk0Mm",
        "outputId": "1ca548ab-684d-4328-fb30-38a32d5e3194"
      },
      "execution_count": 44,
      "outputs": [
        {
          "output_type": "execute_result",
          "data": {
            "text/plain": [
              "Churn\n",
              "0    7963\n",
              "1    2037\n",
              "Name: count, dtype: int64"
            ],
            "text/html": [
              "<div>\n",
              "<style scoped>\n",
              "    .dataframe tbody tr th:only-of-type {\n",
              "        vertical-align: middle;\n",
              "    }\n",
              "\n",
              "    .dataframe tbody tr th {\n",
              "        vertical-align: top;\n",
              "    }\n",
              "\n",
              "    .dataframe thead th {\n",
              "        text-align: right;\n",
              "    }\n",
              "</style>\n",
              "<table border=\"1\" class=\"dataframe\">\n",
              "  <thead>\n",
              "    <tr style=\"text-align: right;\">\n",
              "      <th></th>\n",
              "      <th>count</th>\n",
              "    </tr>\n",
              "    <tr>\n",
              "      <th>Churn</th>\n",
              "      <th></th>\n",
              "    </tr>\n",
              "  </thead>\n",
              "  <tbody>\n",
              "    <tr>\n",
              "      <th>0</th>\n",
              "      <td>7963</td>\n",
              "    </tr>\n",
              "    <tr>\n",
              "      <th>1</th>\n",
              "      <td>2037</td>\n",
              "    </tr>\n",
              "  </tbody>\n",
              "</table>\n",
              "</div><br><label><b>dtype:</b> int64</label>"
            ]
          },
          "metadata": {},
          "execution_count": 44
        }
      ]
    },
    {
      "cell_type": "code",
      "source": [
        "y_rus.value_counts()"
      ],
      "metadata": {
        "colab": {
          "base_uri": "https://localhost:8080/",
          "height": 178
        },
        "id": "9irvrEXZlWFO",
        "outputId": "8df7b08b-8211-4d90-f2c7-8ec466e8de54"
      },
      "execution_count": 45,
      "outputs": [
        {
          "output_type": "execute_result",
          "data": {
            "text/plain": [
              "Churn\n",
              "0    2037\n",
              "1    2037\n",
              "Name: count, dtype: int64"
            ],
            "text/html": [
              "<div>\n",
              "<style scoped>\n",
              "    .dataframe tbody tr th:only-of-type {\n",
              "        vertical-align: middle;\n",
              "    }\n",
              "\n",
              "    .dataframe tbody tr th {\n",
              "        vertical-align: top;\n",
              "    }\n",
              "\n",
              "    .dataframe thead th {\n",
              "        text-align: right;\n",
              "    }\n",
              "</style>\n",
              "<table border=\"1\" class=\"dataframe\">\n",
              "  <thead>\n",
              "    <tr style=\"text-align: right;\">\n",
              "      <th></th>\n",
              "      <th>count</th>\n",
              "    </tr>\n",
              "    <tr>\n",
              "      <th>Churn</th>\n",
              "      <th></th>\n",
              "    </tr>\n",
              "  </thead>\n",
              "  <tbody>\n",
              "    <tr>\n",
              "      <th>0</th>\n",
              "      <td>2037</td>\n",
              "    </tr>\n",
              "    <tr>\n",
              "      <th>1</th>\n",
              "      <td>2037</td>\n",
              "    </tr>\n",
              "  </tbody>\n",
              "</table>\n",
              "</div><br><label><b>dtype:</b> int64</label>"
            ]
          },
          "metadata": {},
          "execution_count": 45
        }
      ]
    },
    {
      "cell_type": "code",
      "source": [
        "y_rus.plot(kind = 'hist')"
      ],
      "metadata": {
        "colab": {
          "base_uri": "https://localhost:8080/",
          "height": 447
        },
        "id": "3JKhaEaUlX5D",
        "outputId": "2d1d275a-0bb4-421c-ec62-177a6488a06c"
      },
      "execution_count": 46,
      "outputs": [
        {
          "output_type": "execute_result",
          "data": {
            "text/plain": [
              "<Axes: ylabel='Frequency'>"
            ]
          },
          "metadata": {},
          "execution_count": 46
        },
        {
          "output_type": "display_data",
          "data": {
            "text/plain": [
              "<Figure size 640x480 with 1 Axes>"
            ],
            "image/png": "[encoded data removed]"
          },
          "metadata": {}
        }
      ]
    },
    {
      "cell_type": "markdown",
      "source": [
        "#Random Over Sampling"
      ],
      "metadata": {
        "id": "WpnktHM-lpjY"
      }
    },
    {
      "cell_type": "code",
      "source": [
        "from imblearn.over_sampling import RandomOverSampler"
      ],
      "metadata": {
        "id": "roCaLsjLlcfZ"
      },
      "execution_count": 47,
      "outputs": []
    },
    {
      "cell_type": "code",
      "source": [
        "ros = RandomOverSampler(random_state=2529)"
      ],
      "metadata": {
        "id": "Shzwrj3xlwUQ"
      },
      "execution_count": 48,
      "outputs": []
    },
    {
      "cell_type": "code",
      "source": [
        "X_ros, y_ros = ros.fit_resample(X, y)"
      ],
      "metadata": {
        "id": "Gamck09Ll1cv"
      },
      "execution_count": 49,
      "outputs": []
    },
    {
      "cell_type": "code",
      "source": [
        "X_ros.shape, y_ros.shape, X.shape, y.shape"
      ],
      "metadata": {
        "colab": {
          "base_uri": "https://localhost:8080/"
        },
        "id": "q1WmEnt7l8iJ",
        "outputId": "66640e02-87b4-4520-9b73-ff638ecd32be"
      },
      "execution_count": 50,
      "outputs": [
        {
          "output_type": "execute_result",
          "data": {
            "text/plain": [
              "((15926, 11), (15926,), (10000, 11), (10000,))"
            ]
          },
          "metadata": {},
          "execution_count": 50
        }
      ]
    },
    {
      "cell_type": "code",
      "source": [
        "y.value_counts()"
      ],
      "metadata": {
        "colab": {
          "base_uri": "https://localhost:8080/",
          "height": 178
        },
        "id": "q_DQeZjxmFuo",
        "outputId": "a3ebf22f-e189-4a6b-d0ef-a19d61c36288"
      },
      "execution_count": 51,
      "outputs": [
        {
          "output_type": "execute_result",
          "data": {
            "text/plain": [
              "Churn\n",
              "0    7963\n",
              "1    2037\n",
              "Name: count, dtype: int64"
            ],
            "text/html": [
              "<div>\n",
              "<style scoped>\n",
              "    .dataframe tbody tr th:only-of-type {\n",
              "        vertical-align: middle;\n",
              "    }\n",
              "\n",
              "    .dataframe tbody tr th {\n",
              "        vertical-align: top;\n",
              "    }\n",
              "\n",
              "    .dataframe thead th {\n",
              "        text-align: right;\n",
              "    }\n",
              "</style>\n",
              "<table border=\"1\" class=\"dataframe\">\n",
              "  <thead>\n",
              "    <tr style=\"text-align: right;\">\n",
              "      <th></th>\n",
              "      <th>count</th>\n",
              "    </tr>\n",
              "    <tr>\n",
              "      <th>Churn</th>\n",
              "      <th></th>\n",
              "    </tr>\n",
              "  </thead>\n",
              "  <tbody>\n",
              "    <tr>\n",
              "      <th>0</th>\n",
              "      <td>7963</td>\n",
              "    </tr>\n",
              "    <tr>\n",
              "      <th>1</th>\n",
              "      <td>2037</td>\n",
              "    </tr>\n",
              "  </tbody>\n",
              "</table>\n",
              "</div><br><label><b>dtype:</b> int64</label>"
            ]
          },
          "metadata": {},
          "execution_count": 51
        }
      ]
    },
    {
      "cell_type": "code",
      "source": [
        "y_ros.value_counts()"
      ],
      "metadata": {
        "colab": {
          "base_uri": "https://localhost:8080/",
          "height": 178
        },
        "id": "z5hWCmMvmOyc",
        "outputId": "b1478026-fa78-4889-8b65-2f6c03b57c9f"
      },
      "execution_count": 52,
      "outputs": [
        {
          "output_type": "execute_result",
          "data": {
            "text/plain": [
              "Churn\n",
              "1    7963\n",
              "0    7963\n",
              "Name: count, dtype: int64"
            ],
            "text/html": [
              "<div>\n",
              "<style scoped>\n",
              "    .dataframe tbody tr th:only-of-type {\n",
              "        vertical-align: middle;\n",
              "    }\n",
              "\n",
              "    .dataframe tbody tr th {\n",
              "        vertical-align: top;\n",
              "    }\n",
              "\n",
              "    .dataframe thead th {\n",
              "        text-align: right;\n",
              "    }\n",
              "</style>\n",
              "<table border=\"1\" class=\"dataframe\">\n",
              "  <thead>\n",
              "    <tr style=\"text-align: right;\">\n",
              "      <th></th>\n",
              "      <th>count</th>\n",
              "    </tr>\n",
              "    <tr>\n",
              "      <th>Churn</th>\n",
              "      <th></th>\n",
              "    </tr>\n",
              "  </thead>\n",
              "  <tbody>\n",
              "    <tr>\n",
              "      <th>1</th>\n",
              "      <td>7963</td>\n",
              "    </tr>\n",
              "    <tr>\n",
              "      <th>0</th>\n",
              "      <td>7963</td>\n",
              "    </tr>\n",
              "  </tbody>\n",
              "</table>\n",
              "</div><br><label><b>dtype:</b> int64</label>"
            ]
          },
          "metadata": {},
          "execution_count": 52
        }
      ]
    },
    {
      "cell_type": "code",
      "source": [
        "y_ros.plot(kind = 'hist')"
      ],
      "metadata": {
        "colab": {
          "base_uri": "https://localhost:8080/",
          "height": 447
        },
        "id": "rAJHQ44VmRL8",
        "outputId": "9d34cce9-5fef-48e6-d7b5-6ffe5fac15dd"
      },
      "execution_count": 53,
      "outputs": [
        {
          "output_type": "execute_result",
          "data": {
            "text/plain": [
              "<Axes: ylabel='Frequency'>"
            ]
          },
          "metadata": {},
          "execution_count": 53
        },
        {
          "output_type": "display_data",
          "data": {
            "text/plain": [
              "<Figure size 640x480 with 1 Axes>"
            ],
            "image/png": "[encoded data removed]"
          },
          "metadata": {}
        }
      ]
    },
    {
      "cell_type": "markdown",
      "source": [
        "#Train Test Split"
      ],
      "metadata": {
        "id": "KDfnbgRBmdnz"
      }
    },
    {
      "cell_type": "code",
      "source": [
        "from sklearn.model_selection import train_test_split"
      ],
      "metadata": {
        "id": "124jba56mUeb"
      },
      "execution_count": 54,
      "outputs": []
    },
    {
      "cell_type": "markdown",
      "source": [
        "**Split Original Data**"
      ],
      "metadata": {
        "id": "xgmEMRE-mkkg"
      }
    },
    {
      "cell_type": "code",
      "source": [
        "X_train, X_test, y_train, y_test = train_test_split(X, y, test_size=0.3, random_state=2529)"
      ],
      "metadata": {
        "id": "5kvXR0R3mi0C"
      },
      "execution_count": 55,
      "outputs": []
    },
    {
      "cell_type": "markdown",
      "source": [
        "**Split Random Under Sample Data**"
      ],
      "metadata": {
        "id": "37dJGij3nJQq"
      }
    },
    {
      "cell_type": "code",
      "source": [
        "X_train_rus, X_test_rus, y_train_rus, y_test_rus = train_test_split(X_rus, y_rus, test_size=0.3, random_state=2529)"
      ],
      "metadata": {
        "id": "Pf_o0hrlm3Uj"
      },
      "execution_count": 56,
      "outputs": []
    },
    {
      "cell_type": "markdown",
      "source": [
        "**Split Random Over Sample Data**"
      ],
      "metadata": {
        "id": "G-HQ8yZmnOM9"
      }
    },
    {
      "cell_type": "code",
      "source": [
        "X_train_ros, X_test_ros, y_train_ros, y_test_ros = train_test_split(X_ros, y_ros, test_size=0.3, random_state=2529)"
      ],
      "metadata": {
        "id": "NAhGBZginG4u"
      },
      "execution_count": 57,
      "outputs": []
    },
    {
      "cell_type": "markdown",
      "source": [
        "#Standardize Features"
      ],
      "metadata": {
        "id": "z_Z4nr4XndiF"
      }
    },
    {
      "cell_type": "code",
      "source": [
        "from sklearn.preprocessing import StandardScaler"
      ],
      "metadata": {
        "id": "KpsZOhrGnXCl"
      },
      "execution_count": 58,
      "outputs": []
    },
    {
      "cell_type": "code",
      "source": [
        "sc = StandardScaler()"
      ],
      "metadata": {
        "id": "bijkQXh0nkFN"
      },
      "execution_count": 60,
      "outputs": []
    },
    {
      "cell_type": "markdown",
      "source": [
        "**Standardize Original Data**"
      ],
      "metadata": {
        "id": "8ZstWVu8noIM"
      }
    },
    {
      "cell_type": "code",
      "source": [
        "X_train[['CreditScore', 'Age', 'Tenure', 'Balance', 'Estimated Salary']] = sc.fit_transform(X_train[['CreditScore', 'Age', 'Tenure', 'Balance', 'Estimated Salary']])"
      ],
      "metadata": {
        "id": "02--XNnxnl8W"
      },
      "execution_count": 61,
      "outputs": []
    },
    {
      "cell_type": "code",
      "source": [
        "X_test[['CreditScore', 'Age', 'Tenure', 'Balance', 'Estimated Salary']] = sc.fit_transform(X_test[['CreditScore', 'Age', 'Tenure', 'Balance', 'Estimated Salary']])"
      ],
      "metadata": {
        "id": "wX_dHqMUo-M0"
      },
      "execution_count": 64,
      "outputs": []
    },
    {
      "cell_type": "markdown",
      "source": [
        "**Standardize Random Under Sample Data**"
      ],
      "metadata": {
        "id": "LFl9lZcUoFM5"
      }
    },
    {
      "cell_type": "code",
      "source": [
        "X_train_rus[['CreditScore', 'Age', 'Tenure', 'Balance', 'Estimated Salary']] = sc.fit_transform(X_train_rus[['CreditScore', 'Age', 'Tenure', 'Balance', 'Estimated Salary']])"
      ],
      "metadata": {
        "id": "jt6YSFOHopQf"
      },
      "execution_count": 62,
      "outputs": []
    },
    {
      "cell_type": "code",
      "source": [
        "X_test_rus[['CreditScore', 'Age', 'Tenure', 'Balance', 'Estimated Salary']] = sc.fit_transform(X_test_rus[['CreditScore', 'Age', 'Tenure', 'Balance', 'Estimated Salary']])"
      ],
      "metadata": {
        "id": "fatuKE82pFK0"
      },
      "execution_count": 65,
      "outputs": []
    },
    {
      "cell_type": "markdown",
      "source": [
        "**Standardize Random Over Sample Data**"
      ],
      "metadata": {
        "id": "QRiQ0yq1ot1z"
      }
    },
    {
      "cell_type": "code",
      "source": [
        "X_train_ros[['CreditScore', 'Age', 'Tenure', 'Balance', 'Estimated Salary']] = sc.fit_transform(X_train_ros[['CreditScore', 'Age', 'Tenure', 'Balance', 'Estimated Salary']])"
      ],
      "metadata": {
        "id": "SqTodzoNos5P"
      },
      "execution_count": 63,
      "outputs": []
    },
    {
      "cell_type": "code",
      "source": [
        "X_test_ros[['CreditScore', 'Age', 'Tenure', 'Balance', 'Estimated Salary']] = sc.fit_transform(X_test_ros[['CreditScore', 'Age', 'Tenure', 'Balance', 'Estimated Salary']])"
      ],
      "metadata": {
        "id": "r3K0s3jmo4OW"
      },
      "execution_count": 66,
      "outputs": []
    },
    {
      "cell_type": "markdown",
      "source": [
        "#Support Vector Machine Classifier"
      ],
      "metadata": {
        "id": "MzOlDnghp4i7"
      }
    },
    {
      "cell_type": "code",
      "source": [
        "from sklearn.svm import SVC"
      ],
      "metadata": {
        "id": "5p0EOjxYpNtn"
      },
      "execution_count": 67,
      "outputs": []
    },
    {
      "cell_type": "code",
      "source": [
        "svc = SVC()"
      ],
      "metadata": {
        "id": "m0LyjeUVqA0M"
      },
      "execution_count": 68,
      "outputs": []
    },
    {
      "cell_type": "code",
      "source": [
        "svc.fit(X_train, y_train)"
      ],
      "metadata": {
        "colab": {
          "base_uri": "https://localhost:8080/",
          "height": 75
        },
        "id": "wgg2UpN9qDHG",
        "outputId": "ddf90b3c-87d5-4e83-9f6c-3a9302e2f36e"
      },
      "execution_count": 69,
      "outputs": [
        {
          "output_type": "execute_result",
          "data": {
            "text/plain": [
              "SVC()"
            ],
            "text/html": [
              "<style>#sk-container-id-1 {color: black;}#sk-container-id-1 pre{padding: 0;}#sk-container-id-1 div.sk-toggleable {background-color: white;}#sk-container-id-1 label.sk-toggleable__label {cursor: pointer;display: block;width: 100%;margin-bottom: 0;padding: 0.3em;box-sizing: border-box;text-align: center;}#sk-container-id-1 label.sk-toggleable__label-arrow:before {content: \"▸\";float: left;margin-right: 0.25em;color: #696969;}#sk-container-id-1 label.sk-toggleable__label-arrow:hover:before {color: black;}#sk-container-id-1 div.sk-estimator:hover label.sk-toggleable__label-arrow:before {color: black;}#sk-container-id-1 div.sk-toggleable__content {max-height: 0;max-width: 0;overflow: hidden;text-align: left;background-color: #f0f8ff;}#sk-container-id-1 div.sk-toggleable__content pre {margin: 0.2em;color: black;border-radius: 0.25em;background-color: #f0f8ff;}#sk-container-id-1 input.sk-toggleable__control:checked~div.sk-toggleable__content {max-height: 200px;max-width: 100%;overflow: auto;}#sk-container-id-1 input.sk-toggleable__control:checked~label.sk-toggleable__label-arrow:before {content: \"▾\";}#sk-container-id-1 div.sk-estimator input.sk-toggleable__control:checked~label.sk-toggleable__label {background-color: #d4ebff;}#sk-container-id-1 div.sk-label input.sk-toggleable__control:checked~label.sk-toggleable__label {background-color: #d4ebff;}#sk-container-id-1 input.sk-hidden--visually {border: 0;clip: rect(1px 1px 1px 1px);clip: rect(1px, 1px, 1px, 1px);height: 1px;margin: -1px;overflow: hidden;padding: 0;position: absolute;width: 1px;}#sk-container-id-1 div.sk-estimator {font-family: monospace;background-color: #f0f8ff;border: 1px dotted black;border-radius: 0.25em;box-sizing: border-box;margin-bottom: 0.5em;}#sk-container-id-1 div.sk-estimator:hover {background-color: #d4ebff;}#sk-container-id-1 div.sk-parallel-item::after {content: \"\";width: 100%;border-bottom: 1px solid gray;flex-grow: 1;}#sk-container-id-1 div.sk-label:hover label.sk-toggleable__label {background-color: #d4ebff;}#sk-container-id-1 div.sk-serial::before {content: \"\";position: absolute;border-left: 1px solid gray;box-sizing: border-box;top: 0;bottom: 0;left: 50%;z-index: 0;}#sk-container-id-1 div.sk-serial {display: flex;flex-direction: column;align-items: center;background-color: white;padding-right: 0.2em;padding-left: 0.2em;position: relative;}#sk-container-id-1 div.sk-item {position: relative;z-index: 1;}#sk-container-id-1 div.sk-parallel {display: flex;align-items: stretch;justify-content: center;background-color: white;position: relative;}#sk-container-id-1 div.sk-item::before, #sk-container-id-1 div.sk-parallel-item::before {content: \"\";position: absolute;border-left: 1px solid gray;box-sizing: border-box;top: 0;bottom: 0;left: 50%;z-index: -1;}#sk-container-id-1 div.sk-parallel-item {display: flex;flex-direction: column;z-index: 1;position: relative;background-color: white;}#sk-container-id-1 div.sk-parallel-item:first-child::after {align-self: flex-end;width: 50%;}#sk-container-id-1 div.sk-parallel-item:last-child::after {align-self: flex-start;width: 50%;}#sk-container-id-1 div.sk-parallel-item:only-child::after {width: 0;}#sk-container-id-1 div.sk-dashed-wrapped {border: 1px dashed gray;margin: 0 0.4em 0.5em 0.4em;box-sizing: border-box;padding-bottom: 0.4em;background-color: white;}#sk-container-id-1 div.sk-label label {font-family: monospace;font-weight: bold;display: inline-block;line-height: 1.2em;}#sk-container-id-1 div.sk-label-container {text-align: center;}#sk-container-id-1 div.sk-container {/* jupyter's `normalize.less` sets `[hidden] { display: none; }` but bootstrap.min.css set `[hidden] { display: none !important; }` so we also need the `!important` here to be able to override the default hidden behavior on the sphinx rendered scikit-learn.org. See: https://github.com/scikit-learn/scikit-learn/issues/21755 */display: inline-block !important;position: relative;}#sk-container-id-1 div.sk-text-repr-fallback {display: none;}</style><div id=\"sk-container-id-1\" class=\"sk-top-container\"><div class=\"sk-text-repr-fallback\"><pre>SVC()</pre><b>In a Jupyter environment, please rerun this cell to show the HTML representation or trust the notebook. <br />On GitHub, the HTML representation is unable to render, please try loading this page with nbviewer.org.</b></div><div class=\"sk-container\" hidden><div class=\"sk-item\"><div class=\"sk-estimator sk-toggleable\"><input class=\"sk-toggleable__control sk-hidden--visually\" id=\"sk-estimator-id-1\" type=\"checkbox\" checked><label for=\"sk-estimator-id-1\" class=\"sk-toggleable__label sk-toggleable__label-arrow\">SVC</label><div class=\"sk-toggleable__content\"><pre>SVC()</pre></div></div></div></div></div>"
            ]
          },
          "metadata": {},
          "execution_count": 69
        }
      ]
    },
    {
      "cell_type": "code",
      "source": [
        "y_pred = svc.predict(X_test)"
      ],
      "metadata": {
        "id": "p18NC7JdqILh"
      },
      "execution_count": 70,
      "outputs": []
    },
    {
      "cell_type": "markdown",
      "source": [
        "#Model Accuracy"
      ],
      "metadata": {
        "id": "0pWqQaLqrjaK"
      }
    },
    {
      "cell_type": "code",
      "source": [
        "from sklearn.metrics import accuracy_score, confusion_matrix, classification_report"
      ],
      "metadata": {
        "id": "4AaBPRcAqNnB"
      },
      "execution_count": 71,
      "outputs": []
    },
    {
      "cell_type": "code",
      "source": [
        "confusion_matrix(y_test, y_pred)"
      ],
      "metadata": {
        "colab": {
          "base_uri": "https://localhost:8080/"
        },
        "id": "ipjCgpo2r2do",
        "outputId": "a740213b-1576-4750-deb6-e0b8f3a07752"
      },
      "execution_count": 72,
      "outputs": [
        {
          "output_type": "execute_result",
          "data": {
            "text/plain": [
              "array([[2381,   33],\n",
              "       [ 436,  150]])"
            ]
          },
          "metadata": {},
          "execution_count": 72
        }
      ]
    },
    {
      "cell_type": "code",
      "source": [
        "print(classification_report(y_test, y_pred))"
      ],
      "metadata": {
        "colab": {
          "base_uri": "https://localhost:8080/"
        },
        "id": "1k1Cxyvxr4bh",
        "outputId": "886f2f7b-54e9-4523-b104-31f5a325863d"
      },
      "execution_count": 74,
      "outputs": [
        {
          "output_type": "stream",
          "name": "stdout",
          "text": [
            "              precision    recall  f1-score   support\n",
            "\n",
            "           0       0.85      0.99      0.91      2414\n",
            "           1       0.82      0.26      0.39       586\n",
            "\n",
            "    accuracy                           0.84      3000\n",
            "   macro avg       0.83      0.62      0.65      3000\n",
            "weighted avg       0.84      0.84      0.81      3000\n",
            "\n"
          ]
        }
      ]
    },
    {
      "cell_type": "markdown",
      "source": [
        "#Hyperparameter Tunning"
      ],
      "metadata": {
        "id": "XxlaPgwgusGE"
      }
    },
    {
      "cell_type": "code",
      "source": [
        "from sklearn.model_selection import GridSearchCV"
      ],
      "metadata": {
        "id": "L2SuiqXBvh5l"
      },
      "execution_count": 78,
      "outputs": []
    },
    {
      "cell_type": "code",
      "source": [
        "param_grid = {'C': [0.1, 1, 10], 'gamma': [1, 0.1, 0.01], 'kernel': ['rbf'], 'class_weight': ['balanced']}"
      ],
      "metadata": {
        "id": "GIFGF0KZr9Oe"
      },
      "execution_count": 79,
      "outputs": []
    },
    {
      "cell_type": "code",
      "source": [
        "grid = GridSearchCV(SVC(), param_grid, refit = True, verbose = 2, cv = 2)\n",
        "grid.fit(X_train, y_train)"
      ],
      "metadata": {
        "colab": {
          "base_uri": "https://localhost:8080/",
          "height": 448
        },
        "id": "xbbdhefyvAfv",
        "outputId": "f9173b9b-2ba0-40dc-d804-289c5b078df6"
      },
      "execution_count": 80,
      "outputs": [
        {
          "output_type": "stream",
          "name": "stdout",
          "text": [
            "Fitting 2 folds for each of 9 candidates, totalling 18 fits\n",
            "[CV] END ..C=0.1, class_weight=balanced, gamma=1, kernel=rbf; total time=   1.4s\n",
            "[CV] END ..C=0.1, class_weight=balanced, gamma=1, kernel=rbf; total time=   1.4s\n",
            "[CV] END C=0.1, class_weight=balanced, gamma=0.1, kernel=rbf; total time=   1.0s\n",
            "[CV] END C=0.1, class_weight=balanced, gamma=0.1, kernel=rbf; total time=   1.1s\n",
            "[CV] END C=0.1, class_weight=balanced, gamma=0.01, kernel=rbf; total time=   1.1s\n",
            "[CV] END C=0.1, class_weight=balanced, gamma=0.01, kernel=rbf; total time=   1.2s\n",
            "[CV] END ....C=1, class_weight=balanced, gamma=1, kernel=rbf; total time=   1.4s\n",
            "[CV] END ....C=1, class_weight=balanced, gamma=1, kernel=rbf; total time=   2.2s\n",
            "[CV] END ..C=1, class_weight=balanced, gamma=0.1, kernel=rbf; total time=   1.4s\n",
            "[CV] END ..C=1, class_weight=balanced, gamma=0.1, kernel=rbf; total time=   1.0s\n",
            "[CV] END .C=1, class_weight=balanced, gamma=0.01, kernel=rbf; total time=   1.0s\n",
            "[CV] END .C=1, class_weight=balanced, gamma=0.01, kernel=rbf; total time=   1.0s\n",
            "[CV] END ...C=10, class_weight=balanced, gamma=1, kernel=rbf; total time=   1.2s\n",
            "[CV] END ...C=10, class_weight=balanced, gamma=1, kernel=rbf; total time=   1.2s\n",
            "[CV] END .C=10, class_weight=balanced, gamma=0.1, kernel=rbf; total time=   1.0s\n",
            "[CV] END .C=10, class_weight=balanced, gamma=0.1, kernel=rbf; total time=   1.0s\n",
            "[CV] END C=10, class_weight=balanced, gamma=0.01, kernel=rbf; total time=   0.9s\n",
            "[CV] END C=10, class_weight=balanced, gamma=0.01, kernel=rbf; total time=   1.0s\n"
          ]
        },
        {
          "output_type": "execute_result",
          "data": {
            "text/plain": [
              "GridSearchCV(cv=2, estimator=SVC(),\n",
              "             param_grid={'C': [0.1, 1, 10], 'class_weight': ['balanced'],\n",
              "                         'gamma': [1, 0.1, 0.01], 'kernel': ['rbf']},\n",
              "             verbose=2)"
            ],
            "text/html": [
              "<style>#sk-container-id-2 {color: black;}#sk-container-id-2 pre{padding: 0;}#sk-container-id-2 div.sk-toggleable {background-color: white;}#sk-container-id-2 label.sk-toggleable__label {cursor: pointer;display: block;width: 100%;margin-bottom: 0;padding: 0.3em;box-sizing: border-box;text-align: center;}#sk-container-id-2 label.sk-toggleable__label-arrow:before {content: \"▸\";float: left;margin-right: 0.25em;color: #696969;}#sk-container-id-2 label.sk-toggleable__label-arrow:hover:before {color: black;}#sk-container-id-2 div.sk-estimator:hover label.sk-toggleable__label-arrow:before {color: black;}#sk-container-id-2 div.sk-toggleable__content {max-height: 0;max-width: 0;overflow: hidden;text-align: left;background-color: #f0f8ff;}#sk-container-id-2 div.sk-toggleable__content pre {margin: 0.2em;color: black;border-radius: 0.25em;background-color: #f0f8ff;}#sk-container-id-2 input.sk-toggleable__control:checked~div.sk-toggleable__content {max-height: 200px;max-width: 100%;overflow: auto;}#sk-container-id-2 input.sk-toggleable__control:checked~label.sk-toggleable__label-arrow:before {content: \"▾\";}#sk-container-id-2 div.sk-estimator input.sk-toggleable__control:checked~label.sk-toggleable__label {background-color: #d4ebff;}#sk-container-id-2 div.sk-label input.sk-toggleable__control:checked~label.sk-toggleable__label {background-color: #d4ebff;}#sk-container-id-2 input.sk-hidden--visually {border: 0;clip: rect(1px 1px 1px 1px);clip: rect(1px, 1px, 1px, 1px);height: 1px;margin: -1px;overflow: hidden;padding: 0;position: absolute;width: 1px;}#sk-container-id-2 div.sk-estimator {font-family: monospace;background-color: #f0f8ff;border: 1px dotted black;border-radius: 0.25em;box-sizing: border-box;margin-bottom: 0.5em;}#sk-container-id-2 div.sk-estimator:hover {background-color: #d4ebff;}#sk-container-id-2 div.sk-parallel-item::after {content: \"\";width: 100%;border-bottom: 1px solid gray;flex-grow: 1;}#sk-container-id-2 div.sk-label:hover label.sk-toggleable__label {background-color: #d4ebff;}#sk-container-id-2 div.sk-serial::before {content: \"\";position: absolute;border-left: 1px solid gray;box-sizing: border-box;top: 0;bottom: 0;left: 50%;z-index: 0;}#sk-container-id-2 div.sk-serial {display: flex;flex-direction: column;align-items: center;background-color: white;padding-right: 0.2em;padding-left: 0.2em;position: relative;}#sk-container-id-2 div.sk-item {position: relative;z-index: 1;}#sk-container-id-2 div.sk-parallel {display: flex;align-items: stretch;justify-content: center;background-color: white;position: relative;}#sk-container-id-2 div.sk-item::before, #sk-container-id-2 div.sk-parallel-item::before {content: \"\";position: absolute;border-left: 1px solid gray;box-sizing: border-box;top: 0;bottom: 0;left: 50%;z-index: -1;}#sk-container-id-2 div.sk-parallel-item {display: flex;flex-direction: column;z-index: 1;position: relative;background-color: white;}#sk-container-id-2 div.sk-parallel-item:first-child::after {align-self: flex-end;width: 50%;}#sk-container-id-2 div.sk-parallel-item:last-child::after {align-self: flex-start;width: 50%;}#sk-container-id-2 div.sk-parallel-item:only-child::after {width: 0;}#sk-container-id-2 div.sk-dashed-wrapped {border: 1px dashed gray;margin: 0 0.4em 0.5em 0.4em;box-sizing: border-box;padding-bottom: 0.4em;background-color: white;}#sk-container-id-2 div.sk-label label {font-family: monospace;font-weight: bold;display: inline-block;line-height: 1.2em;}#sk-container-id-2 div.sk-label-container {text-align: center;}#sk-container-id-2 div.sk-container {/* jupyter's `normalize.less` sets `[hidden] { display: none; }` but bootstrap.min.css set `[hidden] { display: none !important; }` so we also need the `!important` here to be able to override the default hidden behavior on the sphinx rendered scikit-learn.org. See: https://github.com/scikit-learn/scikit-learn/issues/21755 */display: inline-block !important;position: relative;}#sk-container-id-2 div.sk-text-repr-fallback {display: none;}</style><div id=\"sk-container-id-2\" class=\"sk-top-container\"><div class=\"sk-text-repr-fallback\"><pre>GridSearchCV(cv=2, estimator=SVC(),\n",
              "             param_grid={&#x27;C&#x27;: [0.1, 1, 10], &#x27;class_weight&#x27;: [&#x27;balanced&#x27;],\n",
              "                         &#x27;gamma&#x27;: [1, 0.1, 0.01], &#x27;kernel&#x27;: [&#x27;rbf&#x27;]},\n",
              "             verbose=2)</pre><b>In a Jupyter environment, please rerun this cell to show the HTML representation or trust the notebook. <br />On GitHub, the HTML representation is unable to render, please try loading this page with nbviewer.org.</b></div><div class=\"sk-container\" hidden><div class=\"sk-item sk-dashed-wrapped\"><div class=\"sk-label-container\"><div class=\"sk-label sk-toggleable\"><input class=\"sk-toggleable__control sk-hidden--visually\" id=\"sk-estimator-id-2\" type=\"checkbox\" ><label for=\"sk-estimator-id-2\" class=\"sk-toggleable__label sk-toggleable__label-arrow\">GridSearchCV</label><div class=\"sk-toggleable__content\"><pre>GridSearchCV(cv=2, estimator=SVC(),\n",
              "             param_grid={&#x27;C&#x27;: [0.1, 1, 10], &#x27;class_weight&#x27;: [&#x27;balanced&#x27;],\n",
              "                         &#x27;gamma&#x27;: [1, 0.1, 0.01], &#x27;kernel&#x27;: [&#x27;rbf&#x27;]},\n",
              "             verbose=2)</pre></div></div></div><div class=\"sk-parallel\"><div class=\"sk-parallel-item\"><div class=\"sk-item\"><div class=\"sk-label-container\"><div class=\"sk-label sk-toggleable\"><input class=\"sk-toggleable__control sk-hidden--visually\" id=\"sk-estimator-id-3\" type=\"checkbox\" ><label for=\"sk-estimator-id-3\" class=\"sk-toggleable__label sk-toggleable__label-arrow\">estimator: SVC</label><div class=\"sk-toggleable__content\"><pre>SVC()</pre></div></div></div><div class=\"sk-serial\"><div class=\"sk-item\"><div class=\"sk-estimator sk-toggleable\"><input class=\"sk-toggleable__control sk-hidden--visually\" id=\"sk-estimator-id-4\" type=\"checkbox\" ><label for=\"sk-estimator-id-4\" class=\"sk-toggleable__label sk-toggleable__label-arrow\">SVC</label><div class=\"sk-toggleable__content\"><pre>SVC()</pre></div></div></div></div></div></div></div></div></div></div>"
            ]
          },
          "metadata": {},
          "execution_count": 80
        }
      ]
    },
    {
      "cell_type": "code",
      "source": [
        "print(grid.best_estimator_)"
      ],
      "metadata": {
        "colab": {
          "base_uri": "https://localhost:8080/"
        },
        "id": "fDqR2Kfavc2r",
        "outputId": "723bc0a4-2add-4d10-d801-ea2b9c3103f7"
      },
      "execution_count": 81,
      "outputs": [
        {
          "output_type": "stream",
          "name": "stdout",
          "text": [
            "SVC(C=10, class_weight='balanced', gamma=1)\n"
          ]
        }
      ]
    },
    {
      "cell_type": "code",
      "source": [
        "grid_predictions = grid.predict(X_test)"
      ],
      "metadata": {
        "id": "vms1rSJWvwIW"
      },
      "execution_count": 82,
      "outputs": []
    },
    {
      "cell_type": "code",
      "source": [
        "confusion_matrix(y_test, grid_predictions)"
      ],
      "metadata": {
        "colab": {
          "base_uri": "https://localhost:8080/"
        },
        "id": "V-cFOqy2vzIc",
        "outputId": "888ff9dd-1ed6-4734-b4a0-148c399ce49c"
      },
      "execution_count": 83,
      "outputs": [
        {
          "output_type": "execute_result",
          "data": {
            "text/plain": [
              "array([[2159,  255],\n",
              "       [ 343,  243]])"
            ]
          },
          "metadata": {},
          "execution_count": 83
        }
      ]
    },
    {
      "cell_type": "code",
      "source": [
        "print(classification_report(y_test, grid_predictions))"
      ],
      "metadata": {
        "colab": {
          "base_uri": "https://localhost:8080/"
        },
        "id": "4FeMuC9Kv1O8",
        "outputId": "237a94b2-1c02-4e03-dc0d-a07dcd1bcc37"
      },
      "execution_count": 86,
      "outputs": [
        {
          "output_type": "stream",
          "name": "stdout",
          "text": [
            "              precision    recall  f1-score   support\n",
            "\n",
            "           0       0.86      0.89      0.88      2414\n",
            "           1       0.49      0.41      0.45       586\n",
            "\n",
            "    accuracy                           0.80      3000\n",
            "   macro avg       0.68      0.65      0.66      3000\n",
            "weighted avg       0.79      0.80      0.79      3000\n",
            "\n"
          ]
        }
      ]
    },
    {
      "cell_type": "markdown",
      "source": [
        "**Model with Random Under Sampling**"
      ],
      "metadata": {
        "id": "n4nSaznIwIdC"
      }
    },
    {
      "cell_type": "code",
      "source": [
        "svc_rus = SVC()"
      ],
      "metadata": {
        "id": "MjqokWXUv3R2"
      },
      "execution_count": 87,
      "outputs": []
    },
    {
      "cell_type": "code",
      "source": [
        "svc_rus.fit(X_train_rus, y_train_rus)"
      ],
      "metadata": {
        "colab": {
          "base_uri": "https://localhost:8080/",
          "height": 75
        },
        "id": "1oO7afjPwb-Q",
        "outputId": "b0e4ce9b-4b6d-46c8-cedf-73406d73c444"
      },
      "execution_count": 88,
      "outputs": [
        {
          "output_type": "execute_result",
          "data": {
            "text/plain": [
              "SVC()"
            ],
            "text/html": [
              "<style>#sk-container-id-3 {color: black;}#sk-container-id-3 pre{padding: 0;}#sk-container-id-3 div.sk-toggleable {background-color: white;}#sk-container-id-3 label.sk-toggleable__label {cursor: pointer;display: block;width: 100%;margin-bottom: 0;padding: 0.3em;box-sizing: border-box;text-align: center;}#sk-container-id-3 label.sk-toggleable__label-arrow:before {content: \"▸\";float: left;margin-right: 0.25em;color: #696969;}#sk-container-id-3 label.sk-toggleable__label-arrow:hover:before {color: black;}#sk-container-id-3 div.sk-estimator:hover label.sk-toggleable__label-arrow:before {color: black;}#sk-container-id-3 div.sk-toggleable__content {max-height: 0;max-width: 0;overflow: hidden;text-align: left;background-color: #f0f8ff;}#sk-container-id-3 div.sk-toggleable__content pre {margin: 0.2em;color: black;border-radius: 0.25em;background-color: #f0f8ff;}#sk-container-id-3 input.sk-toggleable__control:checked~div.sk-toggleable__content {max-height: 200px;max-width: 100%;overflow: auto;}#sk-container-id-3 input.sk-toggleable__control:checked~label.sk-toggleable__label-arrow:before {content: \"▾\";}#sk-container-id-3 div.sk-estimator input.sk-toggleable__control:checked~label.sk-toggleable__label {background-color: #d4ebff;}#sk-container-id-3 div.sk-label input.sk-toggleable__control:checked~label.sk-toggleable__label {background-color: #d4ebff;}#sk-container-id-3 input.sk-hidden--visually {border: 0;clip: rect(1px 1px 1px 1px);clip: rect(1px, 1px, 1px, 1px);height: 1px;margin: -1px;overflow: hidden;padding: 0;position: absolute;width: 1px;}#sk-container-id-3 div.sk-estimator {font-family: monospace;background-color: #f0f8ff;border: 1px dotted black;border-radius: 0.25em;box-sizing: border-box;margin-bottom: 0.5em;}#sk-container-id-3 div.sk-estimator:hover {background-color: #d4ebff;}#sk-container-id-3 div.sk-parallel-item::after {content: \"\";width: 100%;border-bottom: 1px solid gray;flex-grow: 1;}#sk-container-id-3 div.sk-label:hover label.sk-toggleable__label {background-color: #d4ebff;}#sk-container-id-3 div.sk-serial::before {content: \"\";position: absolute;border-left: 1px solid gray;box-sizing: border-box;top: 0;bottom: 0;left: 50%;z-index: 0;}#sk-container-id-3 div.sk-serial {display: flex;flex-direction: column;align-items: center;background-color: white;padding-right: 0.2em;padding-left: 0.2em;position: relative;}#sk-container-id-3 div.sk-item {position: relative;z-index: 1;}#sk-container-id-3 div.sk-parallel {display: flex;align-items: stretch;justify-content: center;background-color: white;position: relative;}#sk-container-id-3 div.sk-item::before, #sk-container-id-3 div.sk-parallel-item::before {content: \"\";position: absolute;border-left: 1px solid gray;box-sizing: border-box;top: 0;bottom: 0;left: 50%;z-index: -1;}#sk-container-id-3 div.sk-parallel-item {display: flex;flex-direction: column;z-index: 1;position: relative;background-color: white;}#sk-container-id-3 div.sk-parallel-item:first-child::after {align-self: flex-end;width: 50%;}#sk-container-id-3 div.sk-parallel-item:last-child::after {align-self: flex-start;width: 50%;}#sk-container-id-3 div.sk-parallel-item:only-child::after {width: 0;}#sk-container-id-3 div.sk-dashed-wrapped {border: 1px dashed gray;margin: 0 0.4em 0.5em 0.4em;box-sizing: border-box;padding-bottom: 0.4em;background-color: white;}#sk-container-id-3 div.sk-label label {font-family: monospace;font-weight: bold;display: inline-block;line-height: 1.2em;}#sk-container-id-3 div.sk-label-container {text-align: center;}#sk-container-id-3 div.sk-container {/* jupyter's `normalize.less` sets `[hidden] { display: none; }` but bootstrap.min.css set `[hidden] { display: none !important; }` so we also need the `!important` here to be able to override the default hidden behavior on the sphinx rendered scikit-learn.org. See: https://github.com/scikit-learn/scikit-learn/issues/21755 */display: inline-block !important;position: relative;}#sk-container-id-3 div.sk-text-repr-fallback {display: none;}</style><div id=\"sk-container-id-3\" class=\"sk-top-container\"><div class=\"sk-text-repr-fallback\"><pre>SVC()</pre><b>In a Jupyter environment, please rerun this cell to show the HTML representation or trust the notebook. <br />On GitHub, the HTML representation is unable to render, please try loading this page with nbviewer.org.</b></div><div class=\"sk-container\" hidden><div class=\"sk-item\"><div class=\"sk-estimator sk-toggleable\"><input class=\"sk-toggleable__control sk-hidden--visually\" id=\"sk-estimator-id-5\" type=\"checkbox\" checked><label for=\"sk-estimator-id-5\" class=\"sk-toggleable__label sk-toggleable__label-arrow\">SVC</label><div class=\"sk-toggleable__content\"><pre>SVC()</pre></div></div></div></div></div>"
            ]
          },
          "metadata": {},
          "execution_count": 88
        }
      ]
    },
    {
      "cell_type": "code",
      "source": [
        "y_pred_rus = svc_rus.predict(X_test_rus)"
      ],
      "metadata": {
        "id": "_oI344UywflX"
      },
      "execution_count": 89,
      "outputs": []
    },
    {
      "cell_type": "markdown",
      "source": [
        "**Model Accuracy**"
      ],
      "metadata": {
        "id": "G2wTdz-Swlr8"
      }
    },
    {
      "cell_type": "code",
      "source": [
        "confusion_matrix(y_test_rus, y_pred_rus)"
      ],
      "metadata": {
        "colab": {
          "base_uri": "https://localhost:8080/"
        },
        "id": "AznvBUfOwkEs",
        "outputId": "1e9de288-1d67-4263-d299-28160389f24e"
      },
      "execution_count": 90,
      "outputs": [
        {
          "output_type": "execute_result",
          "data": {
            "text/plain": [
              "array([[470, 157],\n",
              "       [174, 422]])"
            ]
          },
          "metadata": {},
          "execution_count": 90
        }
      ]
    },
    {
      "cell_type": "code",
      "source": [
        "print(classification_report(y_test_rus, y_pred_rus))"
      ],
      "metadata": {
        "colab": {
          "base_uri": "https://localhost:8080/"
        },
        "id": "kTRCGhJSwqWv",
        "outputId": "989fdbad-5ec4-4ce2-bb4c-877c77f47e98"
      },
      "execution_count": 91,
      "outputs": [
        {
          "output_type": "stream",
          "name": "stdout",
          "text": [
            "              precision    recall  f1-score   support\n",
            "\n",
            "           0       0.73      0.75      0.74       627\n",
            "           1       0.73      0.71      0.72       596\n",
            "\n",
            "    accuracy                           0.73      1223\n",
            "   macro avg       0.73      0.73      0.73      1223\n",
            "weighted avg       0.73      0.73      0.73      1223\n",
            "\n"
          ]
        }
      ]
    },
    {
      "cell_type": "markdown",
      "source": [
        "**Hyperparameter Tunning**"
      ],
      "metadata": {
        "id": "JGR_AY7xxJx1"
      }
    },
    {
      "cell_type": "code",
      "source": [
        "param_grid = {'C': [0.1, 1, 10], 'gamma': [1, 0.1, 0.01], 'kernel': ['rbf'], 'class_weight': ['balanced']}"
      ],
      "metadata": {
        "id": "Dm4tP357wsi9"
      },
      "execution_count": 92,
      "outputs": []
    },
    {
      "cell_type": "code",
      "source": [
        "grid_rus = GridSearchCV(SVC(), param_grid, refit = True, verbose = 2, cv = 2)\n",
        "grid_rus.fit(X_train_rus, y_train_rus)"
      ],
      "metadata": {
        "colab": {
          "base_uri": "https://localhost:8080/",
          "height": 448
        },
        "id": "YTj9OZLHxQQd",
        "outputId": "64daa39f-91ca-4a0f-bdff-ec5d79f1fb00"
      },
      "execution_count": 93,
      "outputs": [
        {
          "output_type": "stream",
          "name": "stdout",
          "text": [
            "Fitting 2 folds for each of 9 candidates, totalling 18 fits\n",
            "[CV] END ..C=0.1, class_weight=balanced, gamma=1, kernel=rbf; total time=   0.5s\n",
            "[CV] END ..C=0.1, class_weight=balanced, gamma=1, kernel=rbf; total time=   0.5s\n",
            "[CV] END C=0.1, class_weight=balanced, gamma=0.1, kernel=rbf; total time=   0.3s\n",
            "[CV] END C=0.1, class_weight=balanced, gamma=0.1, kernel=rbf; total time=   0.5s\n",
            "[CV] END C=0.1, class_weight=balanced, gamma=0.01, kernel=rbf; total time=   0.4s\n",
            "[CV] END C=0.1, class_weight=balanced, gamma=0.01, kernel=rbf; total time=   0.4s\n",
            "[CV] END ....C=1, class_weight=balanced, gamma=1, kernel=rbf; total time=   0.6s\n",
            "[CV] END ....C=1, class_weight=balanced, gamma=1, kernel=rbf; total time=   0.6s\n",
            "[CV] END ..C=1, class_weight=balanced, gamma=0.1, kernel=rbf; total time=   0.6s\n",
            "[CV] END ..C=1, class_weight=balanced, gamma=0.1, kernel=rbf; total time=   0.6s\n",
            "[CV] END .C=1, class_weight=balanced, gamma=0.01, kernel=rbf; total time=   0.4s\n",
            "[CV] END .C=1, class_weight=balanced, gamma=0.01, kernel=rbf; total time=   0.3s\n",
            "[CV] END ...C=10, class_weight=balanced, gamma=1, kernel=rbf; total time=   0.5s\n",
            "[CV] END ...C=10, class_weight=balanced, gamma=1, kernel=rbf; total time=   0.4s\n",
            "[CV] END .C=10, class_weight=balanced, gamma=0.1, kernel=rbf; total time=   0.3s\n",
            "[CV] END .C=10, class_weight=balanced, gamma=0.1, kernel=rbf; total time=   0.4s\n",
            "[CV] END C=10, class_weight=balanced, gamma=0.01, kernel=rbf; total time=   0.4s\n",
            "[CV] END C=10, class_weight=balanced, gamma=0.01, kernel=rbf; total time=   0.3s\n"
          ]
        },
        {
          "output_type": "execute_result",
          "data": {
            "text/plain": [
              "GridSearchCV(cv=2, estimator=SVC(),\n",
              "             param_grid={'C': [0.1, 1, 10], 'class_weight': ['balanced'],\n",
              "                         'gamma': [1, 0.1, 0.01], 'kernel': ['rbf']},\n",
              "             verbose=2)"
            ],
            "text/html": [
              "<style>#sk-container-id-4 {color: black;}#sk-container-id-4 pre{padding: 0;}#sk-container-id-4 div.sk-toggleable {background-color: white;}#sk-container-id-4 label.sk-toggleable__label {cursor: pointer;display: block;width: 100%;margin-bottom: 0;padding: 0.3em;box-sizing: border-box;text-align: center;}#sk-container-id-4 label.sk-toggleable__label-arrow:before {content: \"▸\";float: left;margin-right: 0.25em;color: #696969;}#sk-container-id-4 label.sk-toggleable__label-arrow:hover:before {color: black;}#sk-container-id-4 div.sk-estimator:hover label.sk-toggleable__label-arrow:before {color: black;}#sk-container-id-4 div.sk-toggleable__content {max-height: 0;max-width: 0;overflow: hidden;text-align: left;background-color: #f0f8ff;}#sk-container-id-4 div.sk-toggleable__content pre {margin: 0.2em;color: black;border-radius: 0.25em;background-color: #f0f8ff;}#sk-container-id-4 input.sk-toggleable__control:checked~div.sk-toggleable__content {max-height: 200px;max-width: 100%;overflow: auto;}#sk-container-id-4 input.sk-toggleable__control:checked~label.sk-toggleable__label-arrow:before {content: \"▾\";}#sk-container-id-4 div.sk-estimator input.sk-toggleable__control:checked~label.sk-toggleable__label {background-color: #d4ebff;}#sk-container-id-4 div.sk-label input.sk-toggleable__control:checked~label.sk-toggleable__label {background-color: #d4ebff;}#sk-container-id-4 input.sk-hidden--visually {border: 0;clip: rect(1px 1px 1px 1px);clip: rect(1px, 1px, 1px, 1px);height: 1px;margin: -1px;overflow: hidden;padding: 0;position: absolute;width: 1px;}#sk-container-id-4 div.sk-estimator {font-family: monospace;background-color: #f0f8ff;border: 1px dotted black;border-radius: 0.25em;box-sizing: border-box;margin-bottom: 0.5em;}#sk-container-id-4 div.sk-estimator:hover {background-color: #d4ebff;}#sk-container-id-4 div.sk-parallel-item::after {content: \"\";width: 100%;border-bottom: 1px solid gray;flex-grow: 1;}#sk-container-id-4 div.sk-label:hover label.sk-toggleable__label {background-color: #d4ebff;}#sk-container-id-4 div.sk-serial::before {content: \"\";position: absolute;border-left: 1px solid gray;box-sizing: border-box;top: 0;bottom: 0;left: 50%;z-index: 0;}#sk-container-id-4 div.sk-serial {display: flex;flex-direction: column;align-items: center;background-color: white;padding-right: 0.2em;padding-left: 0.2em;position: relative;}#sk-container-id-4 div.sk-item {position: relative;z-index: 1;}#sk-container-id-4 div.sk-parallel {display: flex;align-items: stretch;justify-content: center;background-color: white;position: relative;}#sk-container-id-4 div.sk-item::before, #sk-container-id-4 div.sk-parallel-item::before {content: \"\";position: absolute;border-left: 1px solid gray;box-sizing: border-box;top: 0;bottom: 0;left: 50%;z-index: -1;}#sk-container-id-4 div.sk-parallel-item {display: flex;flex-direction: column;z-index: 1;position: relative;background-color: white;}#sk-container-id-4 div.sk-parallel-item:first-child::after {align-self: flex-end;width: 50%;}#sk-container-id-4 div.sk-parallel-item:last-child::after {align-self: flex-start;width: 50%;}#sk-container-id-4 div.sk-parallel-item:only-child::after {width: 0;}#sk-container-id-4 div.sk-dashed-wrapped {border: 1px dashed gray;margin: 0 0.4em 0.5em 0.4em;box-sizing: border-box;padding-bottom: 0.4em;background-color: white;}#sk-container-id-4 div.sk-label label {font-family: monospace;font-weight: bold;display: inline-block;line-height: 1.2em;}#sk-container-id-4 div.sk-label-container {text-align: center;}#sk-container-id-4 div.sk-container {/* jupyter's `normalize.less` sets `[hidden] { display: none; }` but bootstrap.min.css set `[hidden] { display: none !important; }` so we also need the `!important` here to be able to override the default hidden behavior on the sphinx rendered scikit-learn.org. See: https://github.com/scikit-learn/scikit-learn/issues/21755 */display: inline-block !important;position: relative;}#sk-container-id-4 div.sk-text-repr-fallback {display: none;}</style><div id=\"sk-container-id-4\" class=\"sk-top-container\"><div class=\"sk-text-repr-fallback\"><pre>GridSearchCV(cv=2, estimator=SVC(),\n",
              "             param_grid={&#x27;C&#x27;: [0.1, 1, 10], &#x27;class_weight&#x27;: [&#x27;balanced&#x27;],\n",
              "                         &#x27;gamma&#x27;: [1, 0.1, 0.01], &#x27;kernel&#x27;: [&#x27;rbf&#x27;]},\n",
              "             verbose=2)</pre><b>In a Jupyter environment, please rerun this cell to show the HTML representation or trust the notebook. <br />On GitHub, the HTML representation is unable to render, please try loading this page with nbviewer.org.</b></div><div class=\"sk-container\" hidden><div class=\"sk-item sk-dashed-wrapped\"><div class=\"sk-label-container\"><div class=\"sk-label sk-toggleable\"><input class=\"sk-toggleable__control sk-hidden--visually\" id=\"sk-estimator-id-6\" type=\"checkbox\" ><label for=\"sk-estimator-id-6\" class=\"sk-toggleable__label sk-toggleable__label-arrow\">GridSearchCV</label><div class=\"sk-toggleable__content\"><pre>GridSearchCV(cv=2, estimator=SVC(),\n",
              "             param_grid={&#x27;C&#x27;: [0.1, 1, 10], &#x27;class_weight&#x27;: [&#x27;balanced&#x27;],\n",
              "                         &#x27;gamma&#x27;: [1, 0.1, 0.01], &#x27;kernel&#x27;: [&#x27;rbf&#x27;]},\n",
              "             verbose=2)</pre></div></div></div><div class=\"sk-parallel\"><div class=\"sk-parallel-item\"><div class=\"sk-item\"><div class=\"sk-label-container\"><div class=\"sk-label sk-toggleable\"><input class=\"sk-toggleable__control sk-hidden--visually\" id=\"sk-estimator-id-7\" type=\"checkbox\" ><label for=\"sk-estimator-id-7\" class=\"sk-toggleable__label sk-toggleable__label-arrow\">estimator: SVC</label><div class=\"sk-toggleable__content\"><pre>SVC()</pre></div></div></div><div class=\"sk-serial\"><div class=\"sk-item\"><div class=\"sk-estimator sk-toggleable\"><input class=\"sk-toggleable__control sk-hidden--visually\" id=\"sk-estimator-id-8\" type=\"checkbox\" ><label for=\"sk-estimator-id-8\" class=\"sk-toggleable__label sk-toggleable__label-arrow\">SVC</label><div class=\"sk-toggleable__content\"><pre>SVC()</pre></div></div></div></div></div></div></div></div></div></div>"
            ]
          },
          "metadata": {},
          "execution_count": 93
        }
      ]
    },
    {
      "cell_type": "code",
      "source": [
        "print(grid_rus.best_estimator_)"
      ],
      "metadata": {
        "colab": {
          "base_uri": "https://localhost:8080/"
        },
        "id": "lzIeQ6j7xVs1",
        "outputId": "84152399-25e9-41f7-b58e-1c59c727b051"
      },
      "execution_count": 94,
      "outputs": [
        {
          "output_type": "stream",
          "name": "stdout",
          "text": [
            "SVC(C=1, class_weight='balanced', gamma=0.1)\n"
          ]
        }
      ]
    },
    {
      "cell_type": "code",
      "source": [
        "grid_prediction_rus = grid_rus.predict(X_test_rus)"
      ],
      "metadata": {
        "id": "A-wjBE5fxeF3"
      },
      "execution_count": 95,
      "outputs": []
    },
    {
      "cell_type": "code",
      "source": [
        "confusion_matrix(y_test_rus, grid_prediction_rus)"
      ],
      "metadata": {
        "colab": {
          "base_uri": "https://localhost:8080/"
        },
        "id": "NBCMbIOixpJg",
        "outputId": "b87af181-bc7e-45c0-eadc-e0c13f2f448a"
      },
      "execution_count": 96,
      "outputs": [
        {
          "output_type": "execute_result",
          "data": {
            "text/plain": [
              "array([[476, 151],\n",
              "       [172, 424]])"
            ]
          },
          "metadata": {},
          "execution_count": 96
        }
      ]
    },
    {
      "cell_type": "code",
      "source": [
        "print(classification_report(y_test_rus, grid_prediction_rus))"
      ],
      "metadata": {
        "colab": {
          "base_uri": "https://localhost:8080/"
        },
        "id": "aooDGziKxrU4",
        "outputId": "66b80870-d2fc-4308-fbeb-b693f6a1142c"
      },
      "execution_count": 97,
      "outputs": [
        {
          "output_type": "stream",
          "name": "stdout",
          "text": [
            "              precision    recall  f1-score   support\n",
            "\n",
            "           0       0.73      0.76      0.75       627\n",
            "           1       0.74      0.71      0.72       596\n",
            "\n",
            "    accuracy                           0.74      1223\n",
            "   macro avg       0.74      0.74      0.74      1223\n",
            "weighted avg       0.74      0.74      0.74      1223\n",
            "\n"
          ]
        }
      ]
    },
    {
      "cell_type": "markdown",
      "source": [
        "**Model with Random Under Sampling**"
      ],
      "metadata": {
        "id": "fataNI1Kxuyq"
      }
    },
    {
      "cell_type": "code",
      "source": [
        "svc_ros = SVC()"
      ],
      "metadata": {
        "id": "oHqtDNmfxtld"
      },
      "execution_count": 98,
      "outputs": []
    },
    {
      "cell_type": "code",
      "source": [
        "svc_ros.fit(X_train_ros, y_train_ros)"
      ],
      "metadata": {
        "colab": {
          "base_uri": "https://localhost:8080/",
          "height": 75
        },
        "id": "6-46FcBsx56f",
        "outputId": "0e1fe38c-3ca9-4001-9721-1da623154dbf"
      },
      "execution_count": 99,
      "outputs": [
        {
          "output_type": "execute_result",
          "data": {
            "text/plain": [
              "SVC()"
            ],
            "text/html": [
              "<style>#sk-container-id-5 {color: black;}#sk-container-id-5 pre{padding: 0;}#sk-container-id-5 div.sk-toggleable {background-color: white;}#sk-container-id-5 label.sk-toggleable__label {cursor: pointer;display: block;width: 100%;margin-bottom: 0;padding: 0.3em;box-sizing: border-box;text-align: center;}#sk-container-id-5 label.sk-toggleable__label-arrow:before {content: \"▸\";float: left;margin-right: 0.25em;color: #696969;}#sk-container-id-5 label.sk-toggleable__label-arrow:hover:before {color: black;}#sk-container-id-5 div.sk-estimator:hover label.sk-toggleable__label-arrow:before {color: black;}#sk-container-id-5 div.sk-toggleable__content {max-height: 0;max-width: 0;overflow: hidden;text-align: left;background-color: #f0f8ff;}#sk-container-id-5 div.sk-toggleable__content pre {margin: 0.2em;color: black;border-radius: 0.25em;background-color: #f0f8ff;}#sk-container-id-5 input.sk-toggleable__control:checked~div.sk-toggleable__content {max-height: 200px;max-width: 100%;overflow: auto;}#sk-container-id-5 input.sk-toggleable__control:checked~label.sk-toggleable__label-arrow:before {content: \"▾\";}#sk-container-id-5 div.sk-estimator input.sk-toggleable__control:checked~label.sk-toggleable__label {background-color: #d4ebff;}#sk-container-id-5 div.sk-label input.sk-toggleable__control:checked~label.sk-toggleable__label {background-color: #d4ebff;}#sk-container-id-5 input.sk-hidden--visually {border: 0;clip: rect(1px 1px 1px 1px);clip: rect(1px, 1px, 1px, 1px);height: 1px;margin: -1px;overflow: hidden;padding: 0;position: absolute;width: 1px;}#sk-container-id-5 div.sk-estimator {font-family: monospace;background-color: #f0f8ff;border: 1px dotted black;border-radius: 0.25em;box-sizing: border-box;margin-bottom: 0.5em;}#sk-container-id-5 div.sk-estimator:hover {background-color: #d4ebff;}#sk-container-id-5 div.sk-parallel-item::after {content: \"\";width: 100%;border-bottom: 1px solid gray;flex-grow: 1;}#sk-container-id-5 div.sk-label:hover label.sk-toggleable__label {background-color: #d4ebff;}#sk-container-id-5 div.sk-serial::before {content: \"\";position: absolute;border-left: 1px solid gray;box-sizing: border-box;top: 0;bottom: 0;left: 50%;z-index: 0;}#sk-container-id-5 div.sk-serial {display: flex;flex-direction: column;align-items: center;background-color: white;padding-right: 0.2em;padding-left: 0.2em;position: relative;}#sk-container-id-5 div.sk-item {position: relative;z-index: 1;}#sk-container-id-5 div.sk-parallel {display: flex;align-items: stretch;justify-content: center;background-color: white;position: relative;}#sk-container-id-5 div.sk-item::before, #sk-container-id-5 div.sk-parallel-item::before {content: \"\";position: absolute;border-left: 1px solid gray;box-sizing: border-box;top: 0;bottom: 0;left: 50%;z-index: -1;}#sk-container-id-5 div.sk-parallel-item {display: flex;flex-direction: column;z-index: 1;position: relative;background-color: white;}#sk-container-id-5 div.sk-parallel-item:first-child::after {align-self: flex-end;width: 50%;}#sk-container-id-5 div.sk-parallel-item:last-child::after {align-self: flex-start;width: 50%;}#sk-container-id-5 div.sk-parallel-item:only-child::after {width: 0;}#sk-container-id-5 div.sk-dashed-wrapped {border: 1px dashed gray;margin: 0 0.4em 0.5em 0.4em;box-sizing: border-box;padding-bottom: 0.4em;background-color: white;}#sk-container-id-5 div.sk-label label {font-family: monospace;font-weight: bold;display: inline-block;line-height: 1.2em;}#sk-container-id-5 div.sk-label-container {text-align: center;}#sk-container-id-5 div.sk-container {/* jupyter's `normalize.less` sets `[hidden] { display: none; }` but bootstrap.min.css set `[hidden] { display: none !important; }` so we also need the `!important` here to be able to override the default hidden behavior on the sphinx rendered scikit-learn.org. See: https://github.com/scikit-learn/scikit-learn/issues/21755 */display: inline-block !important;position: relative;}#sk-container-id-5 div.sk-text-repr-fallback {display: none;}</style><div id=\"sk-container-id-5\" class=\"sk-top-container\"><div class=\"sk-text-repr-fallback\"><pre>SVC()</pre><b>In a Jupyter environment, please rerun this cell to show the HTML representation or trust the notebook. <br />On GitHub, the HTML representation is unable to render, please try loading this page with nbviewer.org.</b></div><div class=\"sk-container\" hidden><div class=\"sk-item\"><div class=\"sk-estimator sk-toggleable\"><input class=\"sk-toggleable__control sk-hidden--visually\" id=\"sk-estimator-id-9\" type=\"checkbox\" checked><label for=\"sk-estimator-id-9\" class=\"sk-toggleable__label sk-toggleable__label-arrow\">SVC</label><div class=\"sk-toggleable__content\"><pre>SVC()</pre></div></div></div></div></div>"
            ]
          },
          "metadata": {},
          "execution_count": 99
        }
      ]
    },
    {
      "cell_type": "code",
      "source": [
        "y_pred_ros = svc_ros.predict(X_test_ros)"
      ],
      "metadata": {
        "id": "MEARuMBFx7zU"
      },
      "execution_count": 100,
      "outputs": []
    },
    {
      "cell_type": "markdown",
      "source": [
        "**Model Accuracy**"
      ],
      "metadata": {
        "id": "iWT8Do40yATj"
      }
    },
    {
      "cell_type": "code",
      "source": [
        "confusion_matrix(y_test_ros, y_pred_ros)"
      ],
      "metadata": {
        "colab": {
          "base_uri": "https://localhost:8080/"
        },
        "id": "uiF-F8v-x_RO",
        "outputId": "6f129d8d-abe7-484d-d290-068abaa34eb2"
      },
      "execution_count": 101,
      "outputs": [
        {
          "output_type": "execute_result",
          "data": {
            "text/plain": [
              "array([[1823,  556],\n",
              "       [ 626, 1773]])"
            ]
          },
          "metadata": {},
          "execution_count": 101
        }
      ]
    },
    {
      "cell_type": "code",
      "source": [
        "print(classification_report(y_test_ros, y_pred_ros))"
      ],
      "metadata": {
        "colab": {
          "base_uri": "https://localhost:8080/"
        },
        "id": "e_tjoKRuyIRC",
        "outputId": "9ff89037-cc90-47ba-ac60-b3ee0f4a66f3"
      },
      "execution_count": 102,
      "outputs": [
        {
          "output_type": "stream",
          "name": "stdout",
          "text": [
            "              precision    recall  f1-score   support\n",
            "\n",
            "           0       0.74      0.77      0.76      2379\n",
            "           1       0.76      0.74      0.75      2399\n",
            "\n",
            "    accuracy                           0.75      4778\n",
            "   macro avg       0.75      0.75      0.75      4778\n",
            "weighted avg       0.75      0.75      0.75      4778\n",
            "\n"
          ]
        }
      ]
    },
    {
      "cell_type": "markdown",
      "source": [
        "**Hyperparameter Tunning**"
      ],
      "metadata": {
        "id": "uPpv8q70yMHU"
      }
    },
    {
      "cell_type": "code",
      "source": [
        "param_grid = {'C': [0.1, 1, 10], 'gamma': [1, 0.1, 0.01], 'kernel': ['rbf'], 'class_weight': ['balanced']}"
      ],
      "metadata": {
        "id": "0pVMm0kvyKZx"
      },
      "execution_count": 103,
      "outputs": []
    },
    {
      "cell_type": "code",
      "source": [
        "grid_ros = GridSearchCV(SVC(), param_grid, refit = True, verbose = 2, cv = 2)\n",
        "grid_ros.fit(X_train_ros, y_train_ros)"
      ],
      "metadata": {
        "colab": {
          "base_uri": "https://localhost:8080/",
          "height": 448
        },
        "id": "zeOQBBEgyTRR",
        "outputId": "b2b4b0e2-7164-49c6-fd32-5833817e67ef"
      },
      "execution_count": 104,
      "outputs": [
        {
          "output_type": "stream",
          "name": "stdout",
          "text": [
            "Fitting 2 folds for each of 9 candidates, totalling 18 fits\n",
            "[CV] END ..C=0.1, class_weight=balanced, gamma=1, kernel=rbf; total time=   6.6s\n",
            "[CV] END ..C=0.1, class_weight=balanced, gamma=1, kernel=rbf; total time=   6.2s\n",
            "[CV] END C=0.1, class_weight=balanced, gamma=0.1, kernel=rbf; total time=   2.6s\n",
            "[CV] END C=0.1, class_weight=balanced, gamma=0.1, kernel=rbf; total time=   2.5s\n",
            "[CV] END C=0.1, class_weight=balanced, gamma=0.01, kernel=rbf; total time=   4.4s\n",
            "[CV] END C=0.1, class_weight=balanced, gamma=0.01, kernel=rbf; total time=   3.0s\n",
            "[CV] END ....C=1, class_weight=balanced, gamma=1, kernel=rbf; total time=   3.0s\n",
            "[CV] END ....C=1, class_weight=balanced, gamma=1, kernel=rbf; total time=   3.0s\n",
            "[CV] END ..C=1, class_weight=balanced, gamma=0.1, kernel=rbf; total time=   3.3s\n",
            "[CV] END ..C=1, class_weight=balanced, gamma=0.1, kernel=rbf; total time=   2.9s\n",
            "[CV] END .C=1, class_weight=balanced, gamma=0.01, kernel=rbf; total time=   2.6s\n",
            "[CV] END .C=1, class_weight=balanced, gamma=0.01, kernel=rbf; total time=   2.4s\n",
            "[CV] END ...C=10, class_weight=balanced, gamma=1, kernel=rbf; total time=   2.8s\n",
            "[CV] END ...C=10, class_weight=balanced, gamma=1, kernel=rbf; total time=   4.2s\n",
            "[CV] END .C=10, class_weight=balanced, gamma=0.1, kernel=rbf; total time=   2.8s\n",
            "[CV] END .C=10, class_weight=balanced, gamma=0.1, kernel=rbf; total time=   2.6s\n",
            "[CV] END C=10, class_weight=balanced, gamma=0.01, kernel=rbf; total time=   2.5s\n",
            "[CV] END C=10, class_weight=balanced, gamma=0.01, kernel=rbf; total time=   2.4s\n"
          ]
        },
        {
          "output_type": "execute_result",
          "data": {
            "text/plain": [
              "GridSearchCV(cv=2, estimator=SVC(),\n",
              "             param_grid={'C': [0.1, 1, 10], 'class_weight': ['balanced'],\n",
              "                         'gamma': [1, 0.1, 0.01], 'kernel': ['rbf']},\n",
              "             verbose=2)"
            ],
            "text/html": [
              "<style>#sk-container-id-6 {color: black;}#sk-container-id-6 pre{padding: 0;}#sk-container-id-6 div.sk-toggleable {background-color: white;}#sk-container-id-6 label.sk-toggleable__label {cursor: pointer;display: block;width: 100%;margin-bottom: 0;padding: 0.3em;box-sizing: border-box;text-align: center;}#sk-container-id-6 label.sk-toggleable__label-arrow:before {content: \"▸\";float: left;margin-right: 0.25em;color: #696969;}#sk-container-id-6 label.sk-toggleable__label-arrow:hover:before {color: black;}#sk-container-id-6 div.sk-estimator:hover label.sk-toggleable__label-arrow:before {color: black;}#sk-container-id-6 div.sk-toggleable__content {max-height: 0;max-width: 0;overflow: hidden;text-align: left;background-color: #f0f8ff;}#sk-container-id-6 div.sk-toggleable__content pre {margin: 0.2em;color: black;border-radius: 0.25em;background-color: #f0f8ff;}#sk-container-id-6 input.sk-toggleable__control:checked~div.sk-toggleable__content {max-height: 200px;max-width: 100%;overflow: auto;}#sk-container-id-6 input.sk-toggleable__control:checked~label.sk-toggleable__label-arrow:before {content: \"▾\";}#sk-container-id-6 div.sk-estimator input.sk-toggleable__control:checked~label.sk-toggleable__label {background-color: #d4ebff;}#sk-container-id-6 div.sk-label input.sk-toggleable__control:checked~label.sk-toggleable__label {background-color: #d4ebff;}#sk-container-id-6 input.sk-hidden--visually {border: 0;clip: rect(1px 1px 1px 1px);clip: rect(1px, 1px, 1px, 1px);height: 1px;margin: -1px;overflow: hidden;padding: 0;position: absolute;width: 1px;}#sk-container-id-6 div.sk-estimator {font-family: monospace;background-color: #f0f8ff;border: 1px dotted black;border-radius: 0.25em;box-sizing: border-box;margin-bottom: 0.5em;}#sk-container-id-6 div.sk-estimator:hover {background-color: #d4ebff;}#sk-container-id-6 div.sk-parallel-item::after {content: \"\";width: 100%;border-bottom: 1px solid gray;flex-grow: 1;}#sk-container-id-6 div.sk-label:hover label.sk-toggleable__label {background-color: #d4ebff;}#sk-container-id-6 div.sk-serial::before {content: \"\";position: absolute;border-left: 1px solid gray;box-sizing: border-box;top: 0;bottom: 0;left: 50%;z-index: 0;}#sk-container-id-6 div.sk-serial {display: flex;flex-direction: column;align-items: center;background-color: white;padding-right: 0.2em;padding-left: 0.2em;position: relative;}#sk-container-id-6 div.sk-item {position: relative;z-index: 1;}#sk-container-id-6 div.sk-parallel {display: flex;align-items: stretch;justify-content: center;background-color: white;position: relative;}#sk-container-id-6 div.sk-item::before, #sk-container-id-6 div.sk-parallel-item::before {content: \"\";position: absolute;border-left: 1px solid gray;box-sizing: border-box;top: 0;bottom: 0;left: 50%;z-index: -1;}#sk-container-id-6 div.sk-parallel-item {display: flex;flex-direction: column;z-index: 1;position: relative;background-color: white;}#sk-container-id-6 div.sk-parallel-item:first-child::after {align-self: flex-end;width: 50%;}#sk-container-id-6 div.sk-parallel-item:last-child::after {align-self: flex-start;width: 50%;}#sk-container-id-6 div.sk-parallel-item:only-child::after {width: 0;}#sk-container-id-6 div.sk-dashed-wrapped {border: 1px dashed gray;margin: 0 0.4em 0.5em 0.4em;box-sizing: border-box;padding-bottom: 0.4em;background-color: white;}#sk-container-id-6 div.sk-label label {font-family: monospace;font-weight: bold;display: inline-block;line-height: 1.2em;}#sk-container-id-6 div.sk-label-container {text-align: center;}#sk-container-id-6 div.sk-container {/* jupyter's `normalize.less` sets `[hidden] { display: none; }` but bootstrap.min.css set `[hidden] { display: none !important; }` so we also need the `!important` here to be able to override the default hidden behavior on the sphinx rendered scikit-learn.org. See: https://github.com/scikit-learn/scikit-learn/issues/21755 */display: inline-block !important;position: relative;}#sk-container-id-6 div.sk-text-repr-fallback {display: none;}</style><div id=\"sk-container-id-6\" class=\"sk-top-container\"><div class=\"sk-text-repr-fallback\"><pre>GridSearchCV(cv=2, estimator=SVC(),\n",
              "             param_grid={&#x27;C&#x27;: [0.1, 1, 10], &#x27;class_weight&#x27;: [&#x27;balanced&#x27;],\n",
              "                         &#x27;gamma&#x27;: [1, 0.1, 0.01], &#x27;kernel&#x27;: [&#x27;rbf&#x27;]},\n",
              "             verbose=2)</pre><b>In a Jupyter environment, please rerun this cell to show the HTML representation or trust the notebook. <br />On GitHub, the HTML representation is unable to render, please try loading this page with nbviewer.org.</b></div><div class=\"sk-container\" hidden><div class=\"sk-item sk-dashed-wrapped\"><div class=\"sk-label-container\"><div class=\"sk-label sk-toggleable\"><input class=\"sk-toggleable__control sk-hidden--visually\" id=\"sk-estimator-id-10\" type=\"checkbox\" ><label for=\"sk-estimator-id-10\" class=\"sk-toggleable__label sk-toggleable__label-arrow\">GridSearchCV</label><div class=\"sk-toggleable__content\"><pre>GridSearchCV(cv=2, estimator=SVC(),\n",
              "             param_grid={&#x27;C&#x27;: [0.1, 1, 10], &#x27;class_weight&#x27;: [&#x27;balanced&#x27;],\n",
              "                         &#x27;gamma&#x27;: [1, 0.1, 0.01], &#x27;kernel&#x27;: [&#x27;rbf&#x27;]},\n",
              "             verbose=2)</pre></div></div></div><div class=\"sk-parallel\"><div class=\"sk-parallel-item\"><div class=\"sk-item\"><div class=\"sk-label-container\"><div class=\"sk-label sk-toggleable\"><input class=\"sk-toggleable__control sk-hidden--visually\" id=\"sk-estimator-id-11\" type=\"checkbox\" ><label for=\"sk-estimator-id-11\" class=\"sk-toggleable__label sk-toggleable__label-arrow\">estimator: SVC</label><div class=\"sk-toggleable__content\"><pre>SVC()</pre></div></div></div><div class=\"sk-serial\"><div class=\"sk-item\"><div class=\"sk-estimator sk-toggleable\"><input class=\"sk-toggleable__control sk-hidden--visually\" id=\"sk-estimator-id-12\" type=\"checkbox\" ><label for=\"sk-estimator-id-12\" class=\"sk-toggleable__label sk-toggleable__label-arrow\">SVC</label><div class=\"sk-toggleable__content\"><pre>SVC()</pre></div></div></div></div></div></div></div></div></div></div>"
            ]
          },
          "metadata": {},
          "execution_count": 104
        }
      ]
    },
    {
      "cell_type": "code",
      "source": [
        "print(grid_ros.best_estimator_)"
      ],
      "metadata": {
        "colab": {
          "base_uri": "https://localhost:8080/"
        },
        "id": "QKZ3BajYyYPh",
        "outputId": "482fc961-6fa3-4c05-ed1f-6bdfdf243f98"
      },
      "execution_count": 105,
      "outputs": [
        {
          "output_type": "stream",
          "name": "stdout",
          "text": [
            "SVC(C=10, class_weight='balanced', gamma=1)\n"
          ]
        }
      ]
    },
    {
      "cell_type": "code",
      "source": [
        "grid_prediction_ros = grid_ros.predict(X_test_ros)"
      ],
      "metadata": {
        "id": "BVYnYG0syqW4"
      },
      "execution_count": 106,
      "outputs": []
    },
    {
      "cell_type": "code",
      "source": [
        "confusion_matrix(y_test_ros, grid_prediction_ros)"
      ],
      "metadata": {
        "colab": {
          "base_uri": "https://localhost:8080/"
        },
        "id": "wImKBX2kyxeP",
        "outputId": "699b8722-4d24-4b16-96a1-8b981de4a967"
      },
      "execution_count": 107,
      "outputs": [
        {
          "output_type": "execute_result",
          "data": {
            "text/plain": [
              "array([[2047,  332],\n",
              "       [  68, 2331]])"
            ]
          },
          "metadata": {},
          "execution_count": 107
        }
      ]
    },
    {
      "cell_type": "code",
      "source": [
        "print(classification_report(y_test_ros, grid_prediction_ros))"
      ],
      "metadata": {
        "colab": {
          "base_uri": "https://localhost:8080/"
        },
        "id": "8W40nYCjy1G0",
        "outputId": "84159bd1-b9a8-4380-d2ef-7420493d3d06"
      },
      "execution_count": 108,
      "outputs": [
        {
          "output_type": "stream",
          "name": "stdout",
          "text": [
            "              precision    recall  f1-score   support\n",
            "\n",
            "           0       0.97      0.86      0.91      2379\n",
            "           1       0.88      0.97      0.92      2399\n",
            "\n",
            "    accuracy                           0.92      4778\n",
            "   macro avg       0.92      0.92      0.92      4778\n",
            "weighted avg       0.92      0.92      0.92      4778\n",
            "\n"
          ]
        }
      ]
    },
    {
      "cell_type": "markdown",
      "source": [
        "#**Model Choice and Reasons:**\n",
        "\n",
        "**Support Vector Machine (SVC)** was chosen because:\n",
        "\n",
        "It works well for binary classification problems.\n",
        "\n",
        "**Why Use Random Sampling:**\n",
        "\n",
        "The churn class is imbalanced (more non-churn than churn cases). To address this:\n",
        "\n",
        "**Random Under Sampling (RUS)** reduces the majority class to balance the dataset, leading to faster training but potentially losing useful data.\n",
        "\n",
        "**Random Over Sampling (ROS)** increases the minority class, preserving more information but potentially overfitting to the minority class."
      ],
      "metadata": {
        "id": "pAmvQUBT4VQH"
      }
    },
    {
      "cell_type": "markdown",
      "source": [
        "#**Conclusion**\n",
        "**The highest accuracy was observed with the oversampled data and tuned hyperparameters, where SVM achieved 92% accuracy, balancing precision and recall across classes**"
      ],
      "metadata": {
        "id": "0mkauG5Y42n5"
      }
    }
  ]
}